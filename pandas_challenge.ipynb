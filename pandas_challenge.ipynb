{
 "cells": [
  {
   "cell_type": "code",
   "execution_count": 277,
   "metadata": {},
   "outputs": [
    {
     "ename": "ModuleNotFoundError",
     "evalue": "No module named 'sum'",
     "output_type": "error",
     "traceback": [
      "\u001b[1;31m---------------------------------------------------------------------------\u001b[0m",
      "\u001b[1;31mModuleNotFoundError\u001b[0m                       Traceback (most recent call last)",
      "Cell \u001b[1;32mIn[277], line 5\u001b[0m\n\u001b[0;32m      3\u001b[0m \u001b[39mimport\u001b[39;00m \u001b[39mpandas\u001b[39;00m \u001b[39mas\u001b[39;00m \u001b[39mpd\u001b[39;00m\n\u001b[0;32m      4\u001b[0m \u001b[39mimport\u001b[39;00m \u001b[39mcsv\u001b[39;00m  \n\u001b[1;32m----> 5\u001b[0m \u001b[39mimport\u001b[39;00m \u001b[39msum\u001b[39;00m\n",
      "\u001b[1;31mModuleNotFoundError\u001b[0m: No module named 'sum'"
     ]
    }
   ],
   "source": [
    "#import dependencies\n",
    "import numpy as np\n",
    "import pandas as pd\n",
    "import csv  \n",
    "import sum\n"
   ]
  },
  {
   "cell_type": "code",
   "execution_count": null,
   "metadata": {},
   "outputs": [
    {
     "data": {
      "text/html": [
       "<div>\n",
       "<style scoped>\n",
       "    .dataframe tbody tr th:only-of-type {\n",
       "        vertical-align: middle;\n",
       "    }\n",
       "\n",
       "    .dataframe tbody tr th {\n",
       "        vertical-align: top;\n",
       "    }\n",
       "\n",
       "    .dataframe thead th {\n",
       "        text-align: right;\n",
       "    }\n",
       "</style>\n",
       "<table border=\"1\" class=\"dataframe\">\n",
       "  <thead>\n",
       "    <tr style=\"text-align: right;\">\n",
       "      <th></th>\n",
       "      <th>School ID</th>\n",
       "      <th>school_name</th>\n",
       "      <th>type</th>\n",
       "      <th>size</th>\n",
       "      <th>budget</th>\n",
       "    </tr>\n",
       "  </thead>\n",
       "  <tbody>\n",
       "    <tr>\n",
       "      <th>0</th>\n",
       "      <td>0</td>\n",
       "      <td>Huang High School</td>\n",
       "      <td>District</td>\n",
       "      <td>2917</td>\n",
       "      <td>1910635</td>\n",
       "    </tr>\n",
       "    <tr>\n",
       "      <th>1</th>\n",
       "      <td>1</td>\n",
       "      <td>Figueroa High School</td>\n",
       "      <td>District</td>\n",
       "      <td>2949</td>\n",
       "      <td>1884411</td>\n",
       "    </tr>\n",
       "    <tr>\n",
       "      <th>2</th>\n",
       "      <td>2</td>\n",
       "      <td>Shelton High School</td>\n",
       "      <td>Charter</td>\n",
       "      <td>1761</td>\n",
       "      <td>1056600</td>\n",
       "    </tr>\n",
       "    <tr>\n",
       "      <th>3</th>\n",
       "      <td>3</td>\n",
       "      <td>Hernandez High School</td>\n",
       "      <td>District</td>\n",
       "      <td>4635</td>\n",
       "      <td>3022020</td>\n",
       "    </tr>\n",
       "    <tr>\n",
       "      <th>4</th>\n",
       "      <td>4</td>\n",
       "      <td>Griffin High School</td>\n",
       "      <td>Charter</td>\n",
       "      <td>1468</td>\n",
       "      <td>917500</td>\n",
       "    </tr>\n",
       "  </tbody>\n",
       "</table>\n",
       "</div>"
      ],
      "text/plain": [
       "   School ID            school_name      type  size   budget\n",
       "0          0      Huang High School  District  2917  1910635\n",
       "1          1   Figueroa High School  District  2949  1884411\n",
       "2          2    Shelton High School   Charter  1761  1056600\n",
       "3          3  Hernandez High School  District  4635  3022020\n",
       "4          4    Griffin High School   Charter  1468   917500"
      ]
     },
     "execution_count": 81,
     "metadata": {},
     "output_type": "execute_result"
    }
   ],
   "source": [
    "#import data from csv in resources folder\n",
    "csvfile1= \"PyCitySchools/Resources/schools_complete.csv\"\n",
    "csvfile2= \"PyCitySchools/Resources/students_complete.csv\"\n",
    "#identify as database\n",
    "school_df = pd.read_csv(csvfile1)\n",
    "student_df = pd.read_csv(csvfile2)\n",
    "school_df.head()\n"
   ]
  },
  {
   "cell_type": "code",
   "execution_count": null,
   "metadata": {},
   "outputs": [
    {
     "data": {
      "text/html": [
       "<div>\n",
       "<style scoped>\n",
       "    .dataframe tbody tr th:only-of-type {\n",
       "        vertical-align: middle;\n",
       "    }\n",
       "\n",
       "    .dataframe tbody tr th {\n",
       "        vertical-align: top;\n",
       "    }\n",
       "\n",
       "    .dataframe thead th {\n",
       "        text-align: right;\n",
       "    }\n",
       "</style>\n",
       "<table border=\"1\" class=\"dataframe\">\n",
       "  <thead>\n",
       "    <tr style=\"text-align: right;\">\n",
       "      <th></th>\n",
       "      <th>Student ID</th>\n",
       "      <th>student_name</th>\n",
       "      <th>gender</th>\n",
       "      <th>grade</th>\n",
       "      <th>school_name</th>\n",
       "      <th>reading_score</th>\n",
       "      <th>math_score</th>\n",
       "      <th>School ID</th>\n",
       "      <th>type</th>\n",
       "      <th>size</th>\n",
       "      <th>budget</th>\n",
       "    </tr>\n",
       "  </thead>\n",
       "  <tbody>\n",
       "    <tr>\n",
       "      <th>0</th>\n",
       "      <td>0</td>\n",
       "      <td>Paul Bradley</td>\n",
       "      <td>M</td>\n",
       "      <td>9th</td>\n",
       "      <td>Huang High School</td>\n",
       "      <td>66</td>\n",
       "      <td>79</td>\n",
       "      <td>0</td>\n",
       "      <td>District</td>\n",
       "      <td>2917</td>\n",
       "      <td>1910635</td>\n",
       "    </tr>\n",
       "    <tr>\n",
       "      <th>1</th>\n",
       "      <td>1</td>\n",
       "      <td>Victor Smith</td>\n",
       "      <td>M</td>\n",
       "      <td>12th</td>\n",
       "      <td>Huang High School</td>\n",
       "      <td>94</td>\n",
       "      <td>61</td>\n",
       "      <td>0</td>\n",
       "      <td>District</td>\n",
       "      <td>2917</td>\n",
       "      <td>1910635</td>\n",
       "    </tr>\n",
       "    <tr>\n",
       "      <th>2</th>\n",
       "      <td>2</td>\n",
       "      <td>Kevin Rodriguez</td>\n",
       "      <td>M</td>\n",
       "      <td>12th</td>\n",
       "      <td>Huang High School</td>\n",
       "      <td>90</td>\n",
       "      <td>60</td>\n",
       "      <td>0</td>\n",
       "      <td>District</td>\n",
       "      <td>2917</td>\n",
       "      <td>1910635</td>\n",
       "    </tr>\n",
       "    <tr>\n",
       "      <th>3</th>\n",
       "      <td>3</td>\n",
       "      <td>Dr. Richard Scott</td>\n",
       "      <td>M</td>\n",
       "      <td>12th</td>\n",
       "      <td>Huang High School</td>\n",
       "      <td>67</td>\n",
       "      <td>58</td>\n",
       "      <td>0</td>\n",
       "      <td>District</td>\n",
       "      <td>2917</td>\n",
       "      <td>1910635</td>\n",
       "    </tr>\n",
       "    <tr>\n",
       "      <th>4</th>\n",
       "      <td>4</td>\n",
       "      <td>Bonnie Ray</td>\n",
       "      <td>F</td>\n",
       "      <td>9th</td>\n",
       "      <td>Huang High School</td>\n",
       "      <td>97</td>\n",
       "      <td>84</td>\n",
       "      <td>0</td>\n",
       "      <td>District</td>\n",
       "      <td>2917</td>\n",
       "      <td>1910635</td>\n",
       "    </tr>\n",
       "    <tr>\n",
       "      <th>...</th>\n",
       "      <td>...</td>\n",
       "      <td>...</td>\n",
       "      <td>...</td>\n",
       "      <td>...</td>\n",
       "      <td>...</td>\n",
       "      <td>...</td>\n",
       "      <td>...</td>\n",
       "      <td>...</td>\n",
       "      <td>...</td>\n",
       "      <td>...</td>\n",
       "      <td>...</td>\n",
       "    </tr>\n",
       "    <tr>\n",
       "      <th>39165</th>\n",
       "      <td>39165</td>\n",
       "      <td>Donna Howard</td>\n",
       "      <td>F</td>\n",
       "      <td>12th</td>\n",
       "      <td>Thomas High School</td>\n",
       "      <td>99</td>\n",
       "      <td>90</td>\n",
       "      <td>14</td>\n",
       "      <td>Charter</td>\n",
       "      <td>1635</td>\n",
       "      <td>1043130</td>\n",
       "    </tr>\n",
       "    <tr>\n",
       "      <th>39166</th>\n",
       "      <td>39166</td>\n",
       "      <td>Dawn Bell</td>\n",
       "      <td>F</td>\n",
       "      <td>10th</td>\n",
       "      <td>Thomas High School</td>\n",
       "      <td>95</td>\n",
       "      <td>70</td>\n",
       "      <td>14</td>\n",
       "      <td>Charter</td>\n",
       "      <td>1635</td>\n",
       "      <td>1043130</td>\n",
       "    </tr>\n",
       "    <tr>\n",
       "      <th>39167</th>\n",
       "      <td>39167</td>\n",
       "      <td>Rebecca Tanner</td>\n",
       "      <td>F</td>\n",
       "      <td>9th</td>\n",
       "      <td>Thomas High School</td>\n",
       "      <td>73</td>\n",
       "      <td>84</td>\n",
       "      <td>14</td>\n",
       "      <td>Charter</td>\n",
       "      <td>1635</td>\n",
       "      <td>1043130</td>\n",
       "    </tr>\n",
       "    <tr>\n",
       "      <th>39168</th>\n",
       "      <td>39168</td>\n",
       "      <td>Desiree Kidd</td>\n",
       "      <td>F</td>\n",
       "      <td>10th</td>\n",
       "      <td>Thomas High School</td>\n",
       "      <td>99</td>\n",
       "      <td>90</td>\n",
       "      <td>14</td>\n",
       "      <td>Charter</td>\n",
       "      <td>1635</td>\n",
       "      <td>1043130</td>\n",
       "    </tr>\n",
       "    <tr>\n",
       "      <th>39169</th>\n",
       "      <td>39169</td>\n",
       "      <td>Carolyn Jackson</td>\n",
       "      <td>F</td>\n",
       "      <td>11th</td>\n",
       "      <td>Thomas High School</td>\n",
       "      <td>95</td>\n",
       "      <td>75</td>\n",
       "      <td>14</td>\n",
       "      <td>Charter</td>\n",
       "      <td>1635</td>\n",
       "      <td>1043130</td>\n",
       "    </tr>\n",
       "  </tbody>\n",
       "</table>\n",
       "<p>39170 rows × 11 columns</p>\n",
       "</div>"
      ],
      "text/plain": [
       "       Student ID       student_name gender grade         school_name  \\\n",
       "0               0       Paul Bradley      M   9th   Huang High School   \n",
       "1               1       Victor Smith      M  12th   Huang High School   \n",
       "2               2    Kevin Rodriguez      M  12th   Huang High School   \n",
       "3               3  Dr. Richard Scott      M  12th   Huang High School   \n",
       "4               4         Bonnie Ray      F   9th   Huang High School   \n",
       "...           ...                ...    ...   ...                 ...   \n",
       "39165       39165       Donna Howard      F  12th  Thomas High School   \n",
       "39166       39166          Dawn Bell      F  10th  Thomas High School   \n",
       "39167       39167     Rebecca Tanner      F   9th  Thomas High School   \n",
       "39168       39168       Desiree Kidd      F  10th  Thomas High School   \n",
       "39169       39169    Carolyn Jackson      F  11th  Thomas High School   \n",
       "\n",
       "       reading_score  math_score  School ID      type  size   budget  \n",
       "0                 66          79          0  District  2917  1910635  \n",
       "1                 94          61          0  District  2917  1910635  \n",
       "2                 90          60          0  District  2917  1910635  \n",
       "3                 67          58          0  District  2917  1910635  \n",
       "4                 97          84          0  District  2917  1910635  \n",
       "...              ...         ...        ...       ...   ...      ...  \n",
       "39165             99          90         14   Charter  1635  1043130  \n",
       "39166             95          70         14   Charter  1635  1043130  \n",
       "39167             73          84         14   Charter  1635  1043130  \n",
       "39168             99          90         14   Charter  1635  1043130  \n",
       "39169             95          75         14   Charter  1635  1043130  \n",
       "\n",
       "[39170 rows x 11 columns]"
      ]
     },
     "execution_count": 82,
     "metadata": {},
     "output_type": "execute_result"
    }
   ],
   "source": [
    "# Merge dataframes to have one set.  Merging all from both dataframes\n",
    "combined_df= pd.merge(student_df, school_df, how='outer', on= \"school_name\")\n",
    "combined_df\n",
    "\n"
   ]
  },
  {
   "cell_type": "code",
   "execution_count": null,
   "metadata": {},
   "outputs": [
    {
     "data": {
      "text/plain": [
       "Student ID       39170\n",
       "student_name     39170\n",
       "gender           39170\n",
       "grade            39170\n",
       "school_name      39170\n",
       "reading_score    39170\n",
       "math_score       39170\n",
       "School ID        39170\n",
       "type             39170\n",
       "size             39170\n",
       "budget           39170\n",
       "dtype: int64"
      ]
     },
     "execution_count": 83,
     "metadata": {},
     "output_type": "execute_result"
    }
   ],
   "source": [
    "#check for missing data\n",
    "combined_df.count()\n"
   ]
  },
  {
   "cell_type": "code",
   "execution_count": null,
   "metadata": {},
   "outputs": [
    {
     "data": {
      "text/plain": [
       "Student ID        int64\n",
       "student_name     object\n",
       "gender           object\n",
       "grade            object\n",
       "school_name      object\n",
       "reading_score     int64\n",
       "math_score        int64\n",
       "School ID         int64\n",
       "type             object\n",
       "size              int64\n",
       "budget            int64\n",
       "dtype: object"
      ]
     },
     "execution_count": 84,
     "metadata": {},
     "output_type": "execute_result"
    }
   ],
   "source": [
    "combined_df.dtypes"
   ]
  },
  {
   "cell_type": "markdown",
   "metadata": {},
   "source": [
    "**District Summary**"
   ]
  },
  {
   "cell_type": "code",
   "execution_count": null,
   "metadata": {},
   "outputs": [
    {
     "data": {
      "text/plain": [
       "15"
      ]
     },
     "execution_count": 153,
     "metadata": {},
     "output_type": "execute_result"
    }
   ],
   "source": [
    "\n",
    "# Total number of unique schools\n",
    "unique_school_name=school_df['school_name'].unique()\n",
    "school_count=len(unique_school_name)\n",
    "school_count"
   ]
  },
  {
   "cell_type": "code",
   "execution_count": null,
   "metadata": {},
   "outputs": [
    {
     "data": {
      "text/plain": [
       "39170"
      ]
     },
     "execution_count": 99,
     "metadata": {},
     "output_type": "execute_result"
    }
   ],
   "source": [
    "# Total students\n",
    "total_students=combined_df[\"student_name\"].count()\n",
    "total_students"
   ]
  },
  {
   "cell_type": "code",
   "execution_count": null,
   "metadata": {},
   "outputs": [
    {
     "data": {
      "text/plain": [
       "24649428"
      ]
     },
     "execution_count": 116,
     "metadata": {},
     "output_type": "execute_result"
    }
   ],
   "source": [
    "# Total budget\n",
    "total_budget = school_df[\"budget\"].sum()\n",
    "total_budget\n",
    "\n"
   ]
  },
  {
   "cell_type": "code",
   "execution_count": null,
   "metadata": {},
   "outputs": [
    {
     "data": {
      "text/plain": [
       "78.98537145774827"
      ]
     },
     "execution_count": 120,
     "metadata": {},
     "output_type": "execute_result"
    }
   ],
   "source": [
    "#Average math score\n",
    "MathAverage=combined_df[\"math_score\"].mean()\n",
    "MathAverage\n"
   ]
  },
  {
   "cell_type": "code",
   "execution_count": null,
   "metadata": {},
   "outputs": [
    {
     "data": {
      "text/plain": [
       "81.87784018381414"
      ]
     },
     "execution_count": 121,
     "metadata": {},
     "output_type": "execute_result"
    }
   ],
   "source": [
    "#Average reading score\n",
    "ReadingAverage=combined_df[\"reading_score\"].mean()\n",
    "ReadingAverage"
   ]
  },
  {
   "cell_type": "code",
   "execution_count": null,
   "metadata": {},
   "outputs": [],
   "source": [
    "#% passing math (the percentage of students who passed math)\n",
    "passing_math=combined_df.loc[combined_df[\"math_score\"] >=70]\n",
    "passing_math_studentID=passing_math[\"Student ID\"].count()\n",
    "Percent_passing_math=(passing_math_studentID/total_students)*100\n",
    "\n",
    "#% passing reading (the percentage of students who passed reading)\n",
    "passing_reading=combined_df.loc[combined_df[\"reading_score\"] >=70]\n",
    "passing_reading_studentID=passing_reading[\"Student ID\"].count()\n",
    "Percent_passing_reading=(passing_reading_studentID/total_students)*100\n",
    "\n"
   ]
  },
  {
   "cell_type": "code",
   "execution_count": null,
   "metadata": {},
   "outputs": [],
   "source": [
    "\n",
    "#% overall passing (the percentage of students who passed math AND reading)\n",
    "Overall_passing = combined_df.loc[(combined_df['math_score'] >= 70) & (combined_df['reading_score'] >= 70)]\n",
    "Overall_passing_studentID= Overall_passing[\"Student ID\"].count()\n",
    "Overall_passing_percentage=(Overall_passing_studentID/total_students)*100"
   ]
  },
  {
   "cell_type": "code",
   "execution_count": null,
   "metadata": {},
   "outputs": [
    {
     "data": {
      "text/html": [
       "<div>\n",
       "<style scoped>\n",
       "    .dataframe tbody tr th:only-of-type {\n",
       "        vertical-align: middle;\n",
       "    }\n",
       "\n",
       "    .dataframe tbody tr th {\n",
       "        vertical-align: top;\n",
       "    }\n",
       "\n",
       "    .dataframe thead th {\n",
       "        text-align: right;\n",
       "    }\n",
       "</style>\n",
       "<table border=\"1\" class=\"dataframe\">\n",
       "  <thead>\n",
       "    <tr style=\"text-align: right;\">\n",
       "      <th></th>\n",
       "      <th>Total Schools</th>\n",
       "      <th>Total Students</th>\n",
       "      <th>Total Budget</th>\n",
       "      <th>Average Math Score</th>\n",
       "      <th>Average Reading Score</th>\n",
       "      <th>% Passing Math</th>\n",
       "      <th>% Passing Reading</th>\n",
       "      <th>% Overall Passing</th>\n",
       "    </tr>\n",
       "  </thead>\n",
       "  <tbody>\n",
       "    <tr>\n",
       "      <th>0</th>\n",
       "      <td>15</td>\n",
       "      <td>39170</td>\n",
       "      <td>$24649428</td>\n",
       "      <td>78.99</td>\n",
       "      <td>81.88</td>\n",
       "      <td>74.98</td>\n",
       "      <td>85.81</td>\n",
       "      <td>65.17</td>\n",
       "    </tr>\n",
       "  </tbody>\n",
       "</table>\n",
       "</div>"
      ],
      "text/plain": [
       "  Total Schools Total Students Total Budget Average Math Score  \\\n",
       "0            15          39170    $24649428              78.99   \n",
       "\n",
       "  Average Reading Score % Passing Math % Passing Reading % Overall Passing  \n",
       "0                 81.88          74.98             85.81             65.17  "
      ]
     },
     "execution_count": 161,
     "metadata": {},
     "output_type": "execute_result"
    }
   ],
   "source": [
    "#create a dictionary to report all results\n",
    "district_summary = pd.DataFrame({\n",
    "    \"Total Schools\": f\"{school_count}\",\n",
    "    \"Total Students\": f\"{total_students}\",\n",
    "    \"Total Budget\": f\"${total_budget}\",\n",
    "    \"Average Math Score\": f\"{MathAverage:.2f}\",\n",
    "    \"Average Reading Score\": f\"{ReadingAverage:.2f}\",\n",
    "    \"% Passing Math\": f\"{Percent_passing_math:.2f}\",\n",
    "    \"% Passing Reading\": f\"{Percent_passing_reading:.2f}\",\n",
    "    \"% Overall Passing\": f\"{Overall_passing_percentage:.2f}\"\n",
    "}, index=[0])\n",
    "district_summary"
   ]
  },
  {
   "cell_type": "markdown",
   "metadata": {},
   "source": [
    "**School Summary:**"
   ]
  },
  {
   "cell_type": "markdown",
   "metadata": {},
   "source": [
    "Create an overview table that summarizes key metrics about each school, including:\n",
    "\n",
    "School Name\n",
    "School Type\n",
    "Total Students\n",
    "Total School Budget\n",
    "Per Student Budget\n",
    "Average Math Score\n",
    "Average Reading Score\n",
    "% Passing Math\n",
    "% Passing Reading\n",
    "% Overall Passing (The percentage of students that passed math and reading.)\n",
    "Create a dataframe to hold the above results"
   ]
  },
  {
   "cell_type": "code",
   "execution_count": null,
   "metadata": {},
   "outputs": [
    {
     "data": {
      "text/plain": [
       "Student ID       39170\n",
       "student_name     39170\n",
       "gender           39170\n",
       "grade            39170\n",
       "school_name      39170\n",
       "reading_score    39170\n",
       "math_score       39170\n",
       "School ID        39170\n",
       "type             39170\n",
       "size             39170\n",
       "budget           39170\n",
       "dtype: int64"
      ]
     },
     "execution_count": 199,
     "metadata": {},
     "output_type": "execute_result"
    }
   ],
   "source": [
    "combined_df.count()"
   ]
  },
  {
   "cell_type": "code",
   "execution_count": null,
   "metadata": {},
   "outputs": [
    {
     "data": {
      "text/plain": [
       "<pandas.core.groupby.generic.DataFrameGroupBy object at 0x000002496962A950>"
      ]
     },
     "execution_count": 190,
     "metadata": {},
     "output_type": "execute_result"
    }
   ],
   "source": [
    "#create groupby series of school name to calculate for each school\n",
    "school_index=combined_df.set_index(\"school_name\").groupby([\"school_name\"])"
   ]
  },
  {
   "cell_type": "code",
   "execution_count": null,
   "metadata": {},
   "outputs": [],
   "source": [
    "#school type\n",
    "school_type=combined_df.set_index(\"school_name\")[\"type\"]"
   ]
  },
  {
   "cell_type": "code",
   "execution_count": null,
   "metadata": {},
   "outputs": [],
   "source": [
    "#total students by school\n",
    "students_by_school=school_index[\"Student ID\"].count()\n"
   ]
  },
  {
   "cell_type": "code",
   "execution_count": null,
   "metadata": {},
   "outputs": [],
   "source": [
    "#Total School Budget\n",
    "School_Budget=combined_df.set_index(\"school_name\")[\"budget\"]\n"
   ]
  },
  {
   "cell_type": "code",
   "execution_count": null,
   "metadata": {},
   "outputs": [],
   "source": [
    "# per student budget\n",
    "budget_per_student = (combined_df.set_index('school_name')['budget'])/(combined_df.set_index('school_name')['size'])"
   ]
  },
  {
   "cell_type": "code",
   "execution_count": null,
   "metadata": {},
   "outputs": [],
   "source": [
    "#Average Math score for each school\n",
    "school_math_score= school_index['math_score'].mean()\n"
   ]
  },
  {
   "cell_type": "code",
   "execution_count": null,
   "metadata": {},
   "outputs": [],
   "source": [
    "#Average Reading score for each school\n",
    "school_reading_score = school_index['reading_score'].mean()\n"
   ]
  },
  {
   "cell_type": "code",
   "execution_count": null,
   "metadata": {},
   "outputs": [],
   "source": [
    "#Percentage passing math\n",
    "\n",
    "math_passing_school = combined_df[combined_df['math_score'] >= 70].groupby('school_name')['Student ID'].count()*100\n"
   ]
  },
  {
   "cell_type": "code",
   "execution_count": null,
   "metadata": {},
   "outputs": [],
   "source": [
    "#Percentage passing reading\n",
    "\n",
    "reading_passing_school = combined_df[combined_df['math_score'] >= 70].groupby('school_name')['Student ID'].count()*100\n"
   ]
  },
  {
   "cell_type": "code",
   "execution_count": null,
   "metadata": {},
   "outputs": [
    {
     "data": {
      "text/plain": [
       "school_name\n",
       "Bailey High School       54.642283\n",
       "Cabrera High School      91.334769\n",
       "Figueroa High School     53.204476\n",
       "Ford High School         54.289887\n",
       "Griffin High School      90.599455\n",
       "Hernandez High School    53.527508\n",
       "Holden High School       89.227166\n",
       "Huang High School        53.513884\n",
       "Johnson High School      53.539172\n",
       "Pena High School         90.540541\n",
       "Rodriguez High School    52.988247\n",
       "Shelton High School      89.892107\n",
       "Thomas High School       90.948012\n",
       "Wilson High School       90.582567\n",
       "Wright High School       90.333333\n",
       "Name: Student ID, dtype: float64"
      ]
     },
     "execution_count": 269,
     "metadata": {},
     "output_type": "execute_result"
    }
   ],
   "source": [
    "#overall passing percentage. number of people who passed math and reading\n",
    "Overall_passing_school = combined_df.loc[(combined_df['math_score'] >= 70) & (combined_df['reading_score'] >= 70)].groupby([\"school_name\"])\n",
    "school_Overall_passing_studentID= Overall_passing[\"Student ID\"].count()\n",
    "School_Overall_passing_percentage=(school_Overall_passing_studentID/students_by_school)*100\n",
    "School_Overall_passing_percentage\n",
    "\n"
   ]
  },
  {
   "cell_type": "code",
   "execution_count": 281,
   "metadata": {},
   "outputs": [
    {
     "ename": "StopIteration",
     "evalue": "",
     "output_type": "error",
     "traceback": [
      "\u001b[1;31m---------------------------------------------------------------------------\u001b[0m",
      "\u001b[1;31mStopIteration\u001b[0m                             Traceback (most recent call last)",
      "File \u001b[1;32m~\\AppData\\Local\\Packages\\PythonSoftwareFoundation.Python.3.11_qbz5n2kfra8p0\\LocalCache\\local-packages\\Python311\\site-packages\\IPython\\core\\formatters.py:708\u001b[0m, in \u001b[0;36mPlainTextFormatter.__call__\u001b[1;34m(self, obj)\u001b[0m\n\u001b[0;32m    701\u001b[0m stream \u001b[39m=\u001b[39m StringIO()\n\u001b[0;32m    702\u001b[0m printer \u001b[39m=\u001b[39m pretty\u001b[39m.\u001b[39mRepresentationPrinter(stream, \u001b[39mself\u001b[39m\u001b[39m.\u001b[39mverbose,\n\u001b[0;32m    703\u001b[0m     \u001b[39mself\u001b[39m\u001b[39m.\u001b[39mmax_width, \u001b[39mself\u001b[39m\u001b[39m.\u001b[39mnewline,\n\u001b[0;32m    704\u001b[0m     max_seq_length\u001b[39m=\u001b[39m\u001b[39mself\u001b[39m\u001b[39m.\u001b[39mmax_seq_length,\n\u001b[0;32m    705\u001b[0m     singleton_pprinters\u001b[39m=\u001b[39m\u001b[39mself\u001b[39m\u001b[39m.\u001b[39msingleton_printers,\n\u001b[0;32m    706\u001b[0m     type_pprinters\u001b[39m=\u001b[39m\u001b[39mself\u001b[39m\u001b[39m.\u001b[39mtype_printers,\n\u001b[0;32m    707\u001b[0m     deferred_pprinters\u001b[39m=\u001b[39m\u001b[39mself\u001b[39m\u001b[39m.\u001b[39mdeferred_printers)\n\u001b[1;32m--> 708\u001b[0m printer\u001b[39m.\u001b[39;49mpretty(obj)\n\u001b[0;32m    709\u001b[0m printer\u001b[39m.\u001b[39mflush()\n\u001b[0;32m    710\u001b[0m \u001b[39mreturn\u001b[39;00m stream\u001b[39m.\u001b[39mgetvalue()\n",
      "File \u001b[1;32m~\\AppData\\Local\\Packages\\PythonSoftwareFoundation.Python.3.11_qbz5n2kfra8p0\\LocalCache\\local-packages\\Python311\\site-packages\\IPython\\lib\\pretty.py:410\u001b[0m, in \u001b[0;36mRepresentationPrinter.pretty\u001b[1;34m(self, obj)\u001b[0m\n\u001b[0;32m    407\u001b[0m                         \u001b[39mreturn\u001b[39;00m meth(obj, \u001b[39mself\u001b[39m, cycle)\n\u001b[0;32m    408\u001b[0m                 \u001b[39mif\u001b[39;00m \u001b[39mcls\u001b[39m \u001b[39mis\u001b[39;00m \u001b[39mnot\u001b[39;00m \u001b[39mobject\u001b[39m \\\n\u001b[0;32m    409\u001b[0m                         \u001b[39mand\u001b[39;00m \u001b[39mcallable\u001b[39m(\u001b[39mcls\u001b[39m\u001b[39m.\u001b[39m\u001b[39m__dict__\u001b[39m\u001b[39m.\u001b[39mget(\u001b[39m'\u001b[39m\u001b[39m__repr__\u001b[39m\u001b[39m'\u001b[39m)):\n\u001b[1;32m--> 410\u001b[0m                     \u001b[39mreturn\u001b[39;00m _repr_pprint(obj, \u001b[39mself\u001b[39;49m, cycle)\n\u001b[0;32m    412\u001b[0m     \u001b[39mreturn\u001b[39;00m _default_pprint(obj, \u001b[39mself\u001b[39m, cycle)\n\u001b[0;32m    413\u001b[0m \u001b[39mfinally\u001b[39;00m:\n",
      "File \u001b[1;32m~\\AppData\\Local\\Packages\\PythonSoftwareFoundation.Python.3.11_qbz5n2kfra8p0\\LocalCache\\local-packages\\Python311\\site-packages\\IPython\\lib\\pretty.py:778\u001b[0m, in \u001b[0;36m_repr_pprint\u001b[1;34m(obj, p, cycle)\u001b[0m\n\u001b[0;32m    776\u001b[0m \u001b[39m\u001b[39m\u001b[39m\"\"\"A pprint that just redirects to the normal repr function.\"\"\"\u001b[39;00m\n\u001b[0;32m    777\u001b[0m \u001b[39m# Find newlines and replace them with p.break_()\u001b[39;00m\n\u001b[1;32m--> 778\u001b[0m output \u001b[39m=\u001b[39m \u001b[39mrepr\u001b[39;49m(obj)\n\u001b[0;32m    779\u001b[0m lines \u001b[39m=\u001b[39m output\u001b[39m.\u001b[39msplitlines()\n\u001b[0;32m    780\u001b[0m \u001b[39mwith\u001b[39;00m p\u001b[39m.\u001b[39mgroup():\n",
      "File \u001b[1;32m~\\AppData\\Local\\Packages\\PythonSoftwareFoundation.Python.3.11_qbz5n2kfra8p0\\LocalCache\\local-packages\\Python311\\site-packages\\pandas\\core\\frame.py:1094\u001b[0m, in \u001b[0;36mDataFrame.__repr__\u001b[1;34m(self)\u001b[0m\n\u001b[0;32m   1091\u001b[0m     \u001b[39mreturn\u001b[39;00m buf\u001b[39m.\u001b[39mgetvalue()\n\u001b[0;32m   1093\u001b[0m repr_params \u001b[39m=\u001b[39m fmt\u001b[39m.\u001b[39mget_dataframe_repr_params()\n\u001b[1;32m-> 1094\u001b[0m \u001b[39mreturn\u001b[39;00m \u001b[39mself\u001b[39;49m\u001b[39m.\u001b[39;49mto_string(\u001b[39m*\u001b[39;49m\u001b[39m*\u001b[39;49mrepr_params)\n",
      "File \u001b[1;32m~\\AppData\\Local\\Packages\\PythonSoftwareFoundation.Python.3.11_qbz5n2kfra8p0\\LocalCache\\local-packages\\Python311\\site-packages\\pandas\\core\\frame.py:1271\u001b[0m, in \u001b[0;36mDataFrame.to_string\u001b[1;34m(self, buf, columns, col_space, header, index, na_rep, formatters, float_format, sparsify, index_names, justify, max_rows, max_cols, show_dimensions, decimal, line_width, min_rows, max_colwidth, encoding)\u001b[0m\n\u001b[0;32m   1252\u001b[0m \u001b[39mwith\u001b[39;00m option_context(\u001b[39m\"\u001b[39m\u001b[39mdisplay.max_colwidth\u001b[39m\u001b[39m\"\u001b[39m, max_colwidth):\n\u001b[0;32m   1253\u001b[0m     formatter \u001b[39m=\u001b[39m fmt\u001b[39m.\u001b[39mDataFrameFormatter(\n\u001b[0;32m   1254\u001b[0m         \u001b[39mself\u001b[39m,\n\u001b[0;32m   1255\u001b[0m         columns\u001b[39m=\u001b[39mcolumns,\n\u001b[1;32m   (...)\u001b[0m\n\u001b[0;32m   1269\u001b[0m         decimal\u001b[39m=\u001b[39mdecimal,\n\u001b[0;32m   1270\u001b[0m     )\n\u001b[1;32m-> 1271\u001b[0m     \u001b[39mreturn\u001b[39;00m fmt\u001b[39m.\u001b[39;49mDataFrameRenderer(formatter)\u001b[39m.\u001b[39;49mto_string(\n\u001b[0;32m   1272\u001b[0m         buf\u001b[39m=\u001b[39;49mbuf,\n\u001b[0;32m   1273\u001b[0m         encoding\u001b[39m=\u001b[39;49mencoding,\n\u001b[0;32m   1274\u001b[0m         line_width\u001b[39m=\u001b[39;49mline_width,\n\u001b[0;32m   1275\u001b[0m     )\n",
      "File \u001b[1;32m~\\AppData\\Local\\Packages\\PythonSoftwareFoundation.Python.3.11_qbz5n2kfra8p0\\LocalCache\\local-packages\\Python311\\site-packages\\pandas\\io\\formats\\format.py:1134\u001b[0m, in \u001b[0;36mDataFrameRenderer.to_string\u001b[1;34m(self, buf, encoding, line_width)\u001b[0m\n\u001b[0;32m   1131\u001b[0m \u001b[39mfrom\u001b[39;00m \u001b[39mpandas\u001b[39;00m\u001b[39m.\u001b[39;00m\u001b[39mio\u001b[39;00m\u001b[39m.\u001b[39;00m\u001b[39mformats\u001b[39;00m\u001b[39m.\u001b[39;00m\u001b[39mstring\u001b[39;00m \u001b[39mimport\u001b[39;00m StringFormatter\n\u001b[0;32m   1133\u001b[0m string_formatter \u001b[39m=\u001b[39m StringFormatter(\u001b[39mself\u001b[39m\u001b[39m.\u001b[39mfmt, line_width\u001b[39m=\u001b[39mline_width)\n\u001b[1;32m-> 1134\u001b[0m string \u001b[39m=\u001b[39m string_formatter\u001b[39m.\u001b[39;49mto_string()\n\u001b[0;32m   1135\u001b[0m \u001b[39mreturn\u001b[39;00m save_to_buffer(string, buf\u001b[39m=\u001b[39mbuf, encoding\u001b[39m=\u001b[39mencoding)\n",
      "File \u001b[1;32m~\\AppData\\Local\\Packages\\PythonSoftwareFoundation.Python.3.11_qbz5n2kfra8p0\\LocalCache\\local-packages\\Python311\\site-packages\\pandas\\io\\formats\\string.py:30\u001b[0m, in \u001b[0;36mStringFormatter.to_string\u001b[1;34m(self)\u001b[0m\n\u001b[0;32m     29\u001b[0m \u001b[39mdef\u001b[39;00m \u001b[39mto_string\u001b[39m(\u001b[39mself\u001b[39m) \u001b[39m-\u001b[39m\u001b[39m>\u001b[39m \u001b[39mstr\u001b[39m:\n\u001b[1;32m---> 30\u001b[0m     text \u001b[39m=\u001b[39m \u001b[39mself\u001b[39;49m\u001b[39m.\u001b[39;49m_get_string_representation()\n\u001b[0;32m     31\u001b[0m     \u001b[39mif\u001b[39;00m \u001b[39mself\u001b[39m\u001b[39m.\u001b[39mfmt\u001b[39m.\u001b[39mshould_show_dimensions:\n\u001b[0;32m     32\u001b[0m         text \u001b[39m=\u001b[39m \u001b[39m\"\u001b[39m\u001b[39m\"\u001b[39m\u001b[39m.\u001b[39mjoin([text, \u001b[39mself\u001b[39m\u001b[39m.\u001b[39mfmt\u001b[39m.\u001b[39mdimensions_info])\n",
      "File \u001b[1;32m~\\AppData\\Local\\Packages\\PythonSoftwareFoundation.Python.3.11_qbz5n2kfra8p0\\LocalCache\\local-packages\\Python311\\site-packages\\pandas\\io\\formats\\string.py:45\u001b[0m, in \u001b[0;36mStringFormatter._get_string_representation\u001b[1;34m(self)\u001b[0m\n\u001b[0;32m     42\u001b[0m \u001b[39mif\u001b[39;00m \u001b[39mself\u001b[39m\u001b[39m.\u001b[39mfmt\u001b[39m.\u001b[39mframe\u001b[39m.\u001b[39mempty:\n\u001b[0;32m     43\u001b[0m     \u001b[39mreturn\u001b[39;00m \u001b[39mself\u001b[39m\u001b[39m.\u001b[39m_empty_info_line\n\u001b[1;32m---> 45\u001b[0m strcols \u001b[39m=\u001b[39m \u001b[39mself\u001b[39;49m\u001b[39m.\u001b[39;49m_get_strcols()\n\u001b[0;32m     47\u001b[0m \u001b[39mif\u001b[39;00m \u001b[39mself\u001b[39m\u001b[39m.\u001b[39mline_width \u001b[39mis\u001b[39;00m \u001b[39mNone\u001b[39;00m:\n\u001b[0;32m     48\u001b[0m     \u001b[39m# no need to wrap around just print the whole frame\u001b[39;00m\n\u001b[0;32m     49\u001b[0m     \u001b[39mreturn\u001b[39;00m \u001b[39mself\u001b[39m\u001b[39m.\u001b[39madj\u001b[39m.\u001b[39madjoin(\u001b[39m1\u001b[39m, \u001b[39m*\u001b[39mstrcols)\n",
      "File \u001b[1;32m~\\AppData\\Local\\Packages\\PythonSoftwareFoundation.Python.3.11_qbz5n2kfra8p0\\LocalCache\\local-packages\\Python311\\site-packages\\pandas\\io\\formats\\string.py:36\u001b[0m, in \u001b[0;36mStringFormatter._get_strcols\u001b[1;34m(self)\u001b[0m\n\u001b[0;32m     35\u001b[0m \u001b[39mdef\u001b[39;00m \u001b[39m_get_strcols\u001b[39m(\u001b[39mself\u001b[39m) \u001b[39m-\u001b[39m\u001b[39m>\u001b[39m \u001b[39mlist\u001b[39m[\u001b[39mlist\u001b[39m[\u001b[39mstr\u001b[39m]]:\n\u001b[1;32m---> 36\u001b[0m     strcols \u001b[39m=\u001b[39m \u001b[39mself\u001b[39;49m\u001b[39m.\u001b[39;49mfmt\u001b[39m.\u001b[39;49mget_strcols()\n\u001b[0;32m     37\u001b[0m     \u001b[39mif\u001b[39;00m \u001b[39mself\u001b[39m\u001b[39m.\u001b[39mfmt\u001b[39m.\u001b[39mis_truncated:\n\u001b[0;32m     38\u001b[0m         strcols \u001b[39m=\u001b[39m \u001b[39mself\u001b[39m\u001b[39m.\u001b[39m_insert_dot_separators(strcols)\n",
      "File \u001b[1;32m~\\AppData\\Local\\Packages\\PythonSoftwareFoundation.Python.3.11_qbz5n2kfra8p0\\LocalCache\\local-packages\\Python311\\site-packages\\pandas\\io\\formats\\format.py:618\u001b[0m, in \u001b[0;36mDataFrameFormatter.get_strcols\u001b[1;34m(self)\u001b[0m\n\u001b[0;32m    615\u001b[0m strcols \u001b[39m=\u001b[39m \u001b[39mself\u001b[39m\u001b[39m.\u001b[39m_get_strcols_without_index()\n\u001b[0;32m    617\u001b[0m \u001b[39mif\u001b[39;00m \u001b[39mself\u001b[39m\u001b[39m.\u001b[39mindex:\n\u001b[1;32m--> 618\u001b[0m     str_index \u001b[39m=\u001b[39m \u001b[39mself\u001b[39;49m\u001b[39m.\u001b[39;49m_get_formatted_index(\u001b[39mself\u001b[39;49m\u001b[39m.\u001b[39;49mtr_frame)\n\u001b[0;32m    619\u001b[0m     strcols\u001b[39m.\u001b[39minsert(\u001b[39m0\u001b[39m, str_index)\n\u001b[0;32m    621\u001b[0m \u001b[39mreturn\u001b[39;00m strcols\n",
      "File \u001b[1;32m~\\AppData\\Local\\Packages\\PythonSoftwareFoundation.Python.3.11_qbz5n2kfra8p0\\LocalCache\\local-packages\\Python311\\site-packages\\pandas\\io\\formats\\format.py:974\u001b[0m, in \u001b[0;36mDataFrameFormatter._get_formatted_index\u001b[1;34m(self, frame)\u001b[0m\n\u001b[0;32m    967\u001b[0m     fmt_index \u001b[39m=\u001b[39m index\u001b[39m.\u001b[39mformat(\n\u001b[0;32m    968\u001b[0m         sparsify\u001b[39m=\u001b[39m\u001b[39mself\u001b[39m\u001b[39m.\u001b[39msparsify,\n\u001b[0;32m    969\u001b[0m         adjoin\u001b[39m=\u001b[39m\u001b[39mFalse\u001b[39;00m,\n\u001b[0;32m    970\u001b[0m         names\u001b[39m=\u001b[39m\u001b[39mself\u001b[39m\u001b[39m.\u001b[39mshow_row_idx_names,\n\u001b[0;32m    971\u001b[0m         formatter\u001b[39m=\u001b[39mfmt,\n\u001b[0;32m    972\u001b[0m     )\n\u001b[0;32m    973\u001b[0m \u001b[39melse\u001b[39;00m:\n\u001b[1;32m--> 974\u001b[0m     fmt_index \u001b[39m=\u001b[39m [index\u001b[39m.\u001b[39;49mformat(name\u001b[39m=\u001b[39;49m\u001b[39mself\u001b[39;49m\u001b[39m.\u001b[39;49mshow_row_idx_names, formatter\u001b[39m=\u001b[39;49mfmt)]\n\u001b[0;32m    976\u001b[0m fmt_index \u001b[39m=\u001b[39m [\n\u001b[0;32m    977\u001b[0m     \u001b[39mtuple\u001b[39m(\n\u001b[0;32m    978\u001b[0m         _make_fixed_width(\n\u001b[1;32m   (...)\u001b[0m\n\u001b[0;32m    982\u001b[0m     \u001b[39mfor\u001b[39;00m x \u001b[39min\u001b[39;00m fmt_index\n\u001b[0;32m    983\u001b[0m ]\n\u001b[0;32m    985\u001b[0m adjoined \u001b[39m=\u001b[39m \u001b[39mself\u001b[39m\u001b[39m.\u001b[39madj\u001b[39m.\u001b[39madjoin(\u001b[39m1\u001b[39m, \u001b[39m*\u001b[39mfmt_index)\u001b[39m.\u001b[39msplit(\u001b[39m\"\u001b[39m\u001b[39m\\n\u001b[39;00m\u001b[39m\"\u001b[39m)\n",
      "File \u001b[1;32m~\\AppData\\Local\\Packages\\PythonSoftwareFoundation.Python.3.11_qbz5n2kfra8p0\\LocalCache\\local-packages\\Python311\\site-packages\\pandas\\core\\indexes\\base.py:1341\u001b[0m, in \u001b[0;36mIndex.format\u001b[1;34m(self, name, formatter, na_rep)\u001b[0m\n\u001b[0;32m   1338\u001b[0m \u001b[39mif\u001b[39;00m formatter \u001b[39mis\u001b[39;00m \u001b[39mnot\u001b[39;00m \u001b[39mNone\u001b[39;00m:\n\u001b[0;32m   1339\u001b[0m     \u001b[39mreturn\u001b[39;00m header \u001b[39m+\u001b[39m \u001b[39mlist\u001b[39m(\u001b[39mself\u001b[39m\u001b[39m.\u001b[39mmap(formatter))\n\u001b[1;32m-> 1341\u001b[0m \u001b[39mreturn\u001b[39;00m \u001b[39mself\u001b[39;49m\u001b[39m.\u001b[39;49m_format_with_header(header, na_rep\u001b[39m=\u001b[39;49mna_rep)\n",
      "File \u001b[1;32m~\\AppData\\Local\\Packages\\PythonSoftwareFoundation.Python.3.11_qbz5n2kfra8p0\\LocalCache\\local-packages\\Python311\\site-packages\\pandas\\core\\indexes\\base.py:1352\u001b[0m, in \u001b[0;36mIndex._format_with_header\u001b[1;34m(self, header, na_rep)\u001b[0m\n\u001b[0;32m   1349\u001b[0m values \u001b[39m=\u001b[39m cast(np\u001b[39m.\u001b[39mndarray, values)\n\u001b[0;32m   1350\u001b[0m values \u001b[39m=\u001b[39m lib\u001b[39m.\u001b[39mmaybe_convert_objects(values, safe\u001b[39m=\u001b[39m\u001b[39mTrue\u001b[39;00m)\n\u001b[1;32m-> 1352\u001b[0m result \u001b[39m=\u001b[39m [pprint_thing(x, escape_chars\u001b[39m=\u001b[39;49m(\u001b[39m\"\u001b[39;49m\u001b[39m\\t\u001b[39;49;00m\u001b[39m\"\u001b[39;49m, \u001b[39m\"\u001b[39;49m\u001b[39m\\r\u001b[39;49;00m\u001b[39m\"\u001b[39;49m, \u001b[39m\"\u001b[39;49m\u001b[39m\\n\u001b[39;49;00m\u001b[39m\"\u001b[39;49m)) \u001b[39mfor\u001b[39;49;00m x \u001b[39min\u001b[39;49;00m values]\n\u001b[0;32m   1354\u001b[0m \u001b[39m# could have nans\u001b[39;00m\n\u001b[0;32m   1355\u001b[0m mask \u001b[39m=\u001b[39m is_float_nan(values)\n",
      "File \u001b[1;32m~\\AppData\\Local\\Packages\\PythonSoftwareFoundation.Python.3.11_qbz5n2kfra8p0\\LocalCache\\local-packages\\Python311\\site-packages\\pandas\\core\\indexes\\base.py:1352\u001b[0m, in \u001b[0;36m<listcomp>\u001b[1;34m(.0)\u001b[0m\n\u001b[0;32m   1349\u001b[0m values \u001b[39m=\u001b[39m cast(np\u001b[39m.\u001b[39mndarray, values)\n\u001b[0;32m   1350\u001b[0m values \u001b[39m=\u001b[39m lib\u001b[39m.\u001b[39mmaybe_convert_objects(values, safe\u001b[39m=\u001b[39m\u001b[39mTrue\u001b[39;00m)\n\u001b[1;32m-> 1352\u001b[0m result \u001b[39m=\u001b[39m [pprint_thing(x, escape_chars\u001b[39m=\u001b[39;49m(\u001b[39m\"\u001b[39;49m\u001b[39m\\t\u001b[39;49;00m\u001b[39m\"\u001b[39;49m, \u001b[39m\"\u001b[39;49m\u001b[39m\\r\u001b[39;49;00m\u001b[39m\"\u001b[39;49m, \u001b[39m\"\u001b[39;49m\u001b[39m\\n\u001b[39;49;00m\u001b[39m\"\u001b[39;49m)) \u001b[39mfor\u001b[39;00m x \u001b[39min\u001b[39;00m values]\n\u001b[0;32m   1354\u001b[0m \u001b[39m# could have nans\u001b[39;00m\n\u001b[0;32m   1355\u001b[0m mask \u001b[39m=\u001b[39m is_float_nan(values)\n",
      "File \u001b[1;32m~\\AppData\\Local\\Packages\\PythonSoftwareFoundation.Python.3.11_qbz5n2kfra8p0\\LocalCache\\local-packages\\Python311\\site-packages\\pandas\\io\\formats\\printing.py:222\u001b[0m, in \u001b[0;36mpprint_thing\u001b[1;34m(thing, _nest_lvl, escape_chars, default_escapes, quote_strings, max_seq_items)\u001b[0m\n\u001b[0;32m    218\u001b[0m     result \u001b[39m=\u001b[39m _pprint_dict(\n\u001b[0;32m    219\u001b[0m         thing, _nest_lvl, quote_strings\u001b[39m=\u001b[39m\u001b[39mTrue\u001b[39;00m, max_seq_items\u001b[39m=\u001b[39mmax_seq_items\n\u001b[0;32m    220\u001b[0m     )\n\u001b[0;32m    221\u001b[0m \u001b[39melif\u001b[39;00m is_sequence(thing) \u001b[39mand\u001b[39;00m _nest_lvl \u001b[39m<\u001b[39m get_option(\u001b[39m\"\u001b[39m\u001b[39mdisplay.pprint_nest_depth\u001b[39m\u001b[39m\"\u001b[39m):\n\u001b[1;32m--> 222\u001b[0m     result \u001b[39m=\u001b[39m _pprint_seq(\n\u001b[0;32m    223\u001b[0m         thing,\n\u001b[0;32m    224\u001b[0m         _nest_lvl,\n\u001b[0;32m    225\u001b[0m         escape_chars\u001b[39m=\u001b[39;49mescape_chars,\n\u001b[0;32m    226\u001b[0m         quote_strings\u001b[39m=\u001b[39;49mquote_strings,\n\u001b[0;32m    227\u001b[0m         max_seq_items\u001b[39m=\u001b[39;49mmax_seq_items,\n\u001b[0;32m    228\u001b[0m     )\n\u001b[0;32m    229\u001b[0m \u001b[39melif\u001b[39;00m \u001b[39misinstance\u001b[39m(thing, \u001b[39mstr\u001b[39m) \u001b[39mand\u001b[39;00m quote_strings:\n\u001b[0;32m    230\u001b[0m     result \u001b[39m=\u001b[39m \u001b[39mf\u001b[39m\u001b[39m\"\u001b[39m\u001b[39m'\u001b[39m\u001b[39m{\u001b[39;00mas_escaped_string(thing)\u001b[39m}\u001b[39;00m\u001b[39m'\u001b[39m\u001b[39m\"\u001b[39m\n",
      "File \u001b[1;32m~\\AppData\\Local\\Packages\\PythonSoftwareFoundation.Python.3.11_qbz5n2kfra8p0\\LocalCache\\local-packages\\Python311\\site-packages\\pandas\\io\\formats\\printing.py:119\u001b[0m, in \u001b[0;36m_pprint_seq\u001b[1;34m(seq, _nest_lvl, max_seq_items, **kwds)\u001b[0m\n\u001b[0;32m    117\u001b[0m s \u001b[39m=\u001b[39m \u001b[39miter\u001b[39m(seq)\n\u001b[0;32m    118\u001b[0m \u001b[39m# handle sets, no slicing\u001b[39;00m\n\u001b[1;32m--> 119\u001b[0m r \u001b[39m=\u001b[39m [\n\u001b[0;32m    120\u001b[0m     pprint_thing(\u001b[39mnext\u001b[39;49m(s), _nest_lvl \u001b[39m+\u001b[39;49m \u001b[39m1\u001b[39;49m, max_seq_items\u001b[39m=\u001b[39;49mmax_seq_items, \u001b[39m*\u001b[39;49m\u001b[39m*\u001b[39;49mkwds)\n\u001b[0;32m    121\u001b[0m     \u001b[39mfor\u001b[39;49;00m i \u001b[39min\u001b[39;49;00m \u001b[39mrange\u001b[39;49m(\u001b[39mmin\u001b[39;49m(nitems, \u001b[39mlen\u001b[39;49m(seq)))\n\u001b[0;32m    122\u001b[0m ]\n\u001b[0;32m    123\u001b[0m body \u001b[39m=\u001b[39m \u001b[39m\"\u001b[39m\u001b[39m, \u001b[39m\u001b[39m\"\u001b[39m\u001b[39m.\u001b[39mjoin(r)\n\u001b[0;32m    125\u001b[0m \u001b[39mif\u001b[39;00m nitems \u001b[39m<\u001b[39m \u001b[39mlen\u001b[39m(seq):\n",
      "File \u001b[1;32m~\\AppData\\Local\\Packages\\PythonSoftwareFoundation.Python.3.11_qbz5n2kfra8p0\\LocalCache\\local-packages\\Python311\\site-packages\\pandas\\io\\formats\\printing.py:120\u001b[0m, in \u001b[0;36m<listcomp>\u001b[1;34m(.0)\u001b[0m\n\u001b[0;32m    117\u001b[0m s \u001b[39m=\u001b[39m \u001b[39miter\u001b[39m(seq)\n\u001b[0;32m    118\u001b[0m \u001b[39m# handle sets, no slicing\u001b[39;00m\n\u001b[0;32m    119\u001b[0m r \u001b[39m=\u001b[39m [\n\u001b[1;32m--> 120\u001b[0m     pprint_thing(\u001b[39mnext\u001b[39;49m(s), _nest_lvl \u001b[39m+\u001b[39;49m \u001b[39m1\u001b[39;49m, max_seq_items\u001b[39m=\u001b[39;49mmax_seq_items, \u001b[39m*\u001b[39;49m\u001b[39m*\u001b[39;49mkwds)\n\u001b[0;32m    121\u001b[0m     \u001b[39mfor\u001b[39;00m i \u001b[39min\u001b[39;00m \u001b[39mrange\u001b[39m(\u001b[39mmin\u001b[39m(nitems, \u001b[39mlen\u001b[39m(seq)))\n\u001b[0;32m    122\u001b[0m ]\n\u001b[0;32m    123\u001b[0m body \u001b[39m=\u001b[39m \u001b[39m\"\u001b[39m\u001b[39m, \u001b[39m\u001b[39m\"\u001b[39m\u001b[39m.\u001b[39mjoin(r)\n\u001b[0;32m    125\u001b[0m \u001b[39mif\u001b[39;00m nitems \u001b[39m<\u001b[39m \u001b[39mlen\u001b[39m(seq):\n",
      "File \u001b[1;32m~\\AppData\\Local\\Packages\\PythonSoftwareFoundation.Python.3.11_qbz5n2kfra8p0\\LocalCache\\local-packages\\Python311\\site-packages\\pandas\\io\\formats\\printing.py:222\u001b[0m, in \u001b[0;36mpprint_thing\u001b[1;34m(thing, _nest_lvl, escape_chars, default_escapes, quote_strings, max_seq_items)\u001b[0m\n\u001b[0;32m    218\u001b[0m     result \u001b[39m=\u001b[39m _pprint_dict(\n\u001b[0;32m    219\u001b[0m         thing, _nest_lvl, quote_strings\u001b[39m=\u001b[39m\u001b[39mTrue\u001b[39;00m, max_seq_items\u001b[39m=\u001b[39mmax_seq_items\n\u001b[0;32m    220\u001b[0m     )\n\u001b[0;32m    221\u001b[0m \u001b[39melif\u001b[39;00m is_sequence(thing) \u001b[39mand\u001b[39;00m _nest_lvl \u001b[39m<\u001b[39m get_option(\u001b[39m\"\u001b[39m\u001b[39mdisplay.pprint_nest_depth\u001b[39m\u001b[39m\"\u001b[39m):\n\u001b[1;32m--> 222\u001b[0m     result \u001b[39m=\u001b[39m _pprint_seq(\n\u001b[0;32m    223\u001b[0m         thing,\n\u001b[0;32m    224\u001b[0m         _nest_lvl,\n\u001b[0;32m    225\u001b[0m         escape_chars\u001b[39m=\u001b[39;49mescape_chars,\n\u001b[0;32m    226\u001b[0m         quote_strings\u001b[39m=\u001b[39;49mquote_strings,\n\u001b[0;32m    227\u001b[0m         max_seq_items\u001b[39m=\u001b[39;49mmax_seq_items,\n\u001b[0;32m    228\u001b[0m     )\n\u001b[0;32m    229\u001b[0m \u001b[39melif\u001b[39;00m \u001b[39misinstance\u001b[39m(thing, \u001b[39mstr\u001b[39m) \u001b[39mand\u001b[39;00m quote_strings:\n\u001b[0;32m    230\u001b[0m     result \u001b[39m=\u001b[39m \u001b[39mf\u001b[39m\u001b[39m\"\u001b[39m\u001b[39m'\u001b[39m\u001b[39m{\u001b[39;00mas_escaped_string(thing)\u001b[39m}\u001b[39;00m\u001b[39m'\u001b[39m\u001b[39m\"\u001b[39m\n",
      "File \u001b[1;32m~\\AppData\\Local\\Packages\\PythonSoftwareFoundation.Python.3.11_qbz5n2kfra8p0\\LocalCache\\local-packages\\Python311\\site-packages\\pandas\\io\\formats\\printing.py:119\u001b[0m, in \u001b[0;36m_pprint_seq\u001b[1;34m(seq, _nest_lvl, max_seq_items, **kwds)\u001b[0m\n\u001b[0;32m    117\u001b[0m s \u001b[39m=\u001b[39m \u001b[39miter\u001b[39m(seq)\n\u001b[0;32m    118\u001b[0m \u001b[39m# handle sets, no slicing\u001b[39;00m\n\u001b[1;32m--> 119\u001b[0m r \u001b[39m=\u001b[39m [\n\u001b[0;32m    120\u001b[0m     pprint_thing(\u001b[39mnext\u001b[39;49m(s), _nest_lvl \u001b[39m+\u001b[39;49m \u001b[39m1\u001b[39;49m, max_seq_items\u001b[39m=\u001b[39;49mmax_seq_items, \u001b[39m*\u001b[39;49m\u001b[39m*\u001b[39;49mkwds)\n\u001b[0;32m    121\u001b[0m     \u001b[39mfor\u001b[39;49;00m i \u001b[39min\u001b[39;49;00m \u001b[39mrange\u001b[39;49m(\u001b[39mmin\u001b[39;49m(nitems, \u001b[39mlen\u001b[39;49m(seq)))\n\u001b[0;32m    122\u001b[0m ]\n\u001b[0;32m    123\u001b[0m body \u001b[39m=\u001b[39m \u001b[39m\"\u001b[39m\u001b[39m, \u001b[39m\u001b[39m\"\u001b[39m\u001b[39m.\u001b[39mjoin(r)\n\u001b[0;32m    125\u001b[0m \u001b[39mif\u001b[39;00m nitems \u001b[39m<\u001b[39m \u001b[39mlen\u001b[39m(seq):\n",
      "File \u001b[1;32m~\\AppData\\Local\\Packages\\PythonSoftwareFoundation.Python.3.11_qbz5n2kfra8p0\\LocalCache\\local-packages\\Python311\\site-packages\\pandas\\io\\formats\\printing.py:120\u001b[0m, in \u001b[0;36m<listcomp>\u001b[1;34m(.0)\u001b[0m\n\u001b[0;32m    117\u001b[0m s \u001b[39m=\u001b[39m \u001b[39miter\u001b[39m(seq)\n\u001b[0;32m    118\u001b[0m \u001b[39m# handle sets, no slicing\u001b[39;00m\n\u001b[0;32m    119\u001b[0m r \u001b[39m=\u001b[39m [\n\u001b[1;32m--> 120\u001b[0m     pprint_thing(\u001b[39mnext\u001b[39;49m(s), _nest_lvl \u001b[39m+\u001b[39;49m \u001b[39m1\u001b[39;49m, max_seq_items\u001b[39m=\u001b[39;49mmax_seq_items, \u001b[39m*\u001b[39;49m\u001b[39m*\u001b[39;49mkwds)\n\u001b[0;32m    121\u001b[0m     \u001b[39mfor\u001b[39;00m i \u001b[39min\u001b[39;00m \u001b[39mrange\u001b[39m(\u001b[39mmin\u001b[39m(nitems, \u001b[39mlen\u001b[39m(seq)))\n\u001b[0;32m    122\u001b[0m ]\n\u001b[0;32m    123\u001b[0m body \u001b[39m=\u001b[39m \u001b[39m\"\u001b[39m\u001b[39m, \u001b[39m\u001b[39m\"\u001b[39m\u001b[39m.\u001b[39mjoin(r)\n\u001b[0;32m    125\u001b[0m \u001b[39mif\u001b[39;00m nitems \u001b[39m<\u001b[39m \u001b[39mlen\u001b[39m(seq):\n",
      "File \u001b[1;32m~\\AppData\\Local\\Packages\\PythonSoftwareFoundation.Python.3.11_qbz5n2kfra8p0\\LocalCache\\local-packages\\Python311\\site-packages\\pandas\\io\\formats\\printing.py:222\u001b[0m, in \u001b[0;36mpprint_thing\u001b[1;34m(thing, _nest_lvl, escape_chars, default_escapes, quote_strings, max_seq_items)\u001b[0m\n\u001b[0;32m    218\u001b[0m     result \u001b[39m=\u001b[39m _pprint_dict(\n\u001b[0;32m    219\u001b[0m         thing, _nest_lvl, quote_strings\u001b[39m=\u001b[39m\u001b[39mTrue\u001b[39;00m, max_seq_items\u001b[39m=\u001b[39mmax_seq_items\n\u001b[0;32m    220\u001b[0m     )\n\u001b[0;32m    221\u001b[0m \u001b[39melif\u001b[39;00m is_sequence(thing) \u001b[39mand\u001b[39;00m _nest_lvl \u001b[39m<\u001b[39m get_option(\u001b[39m\"\u001b[39m\u001b[39mdisplay.pprint_nest_depth\u001b[39m\u001b[39m\"\u001b[39m):\n\u001b[1;32m--> 222\u001b[0m     result \u001b[39m=\u001b[39m _pprint_seq(\n\u001b[0;32m    223\u001b[0m         thing,\n\u001b[0;32m    224\u001b[0m         _nest_lvl,\n\u001b[0;32m    225\u001b[0m         escape_chars\u001b[39m=\u001b[39;49mescape_chars,\n\u001b[0;32m    226\u001b[0m         quote_strings\u001b[39m=\u001b[39;49mquote_strings,\n\u001b[0;32m    227\u001b[0m         max_seq_items\u001b[39m=\u001b[39;49mmax_seq_items,\n\u001b[0;32m    228\u001b[0m     )\n\u001b[0;32m    229\u001b[0m \u001b[39melif\u001b[39;00m \u001b[39misinstance\u001b[39m(thing, \u001b[39mstr\u001b[39m) \u001b[39mand\u001b[39;00m quote_strings:\n\u001b[0;32m    230\u001b[0m     result \u001b[39m=\u001b[39m \u001b[39mf\u001b[39m\u001b[39m\"\u001b[39m\u001b[39m'\u001b[39m\u001b[39m{\u001b[39;00mas_escaped_string(thing)\u001b[39m}\u001b[39;00m\u001b[39m'\u001b[39m\u001b[39m\"\u001b[39m\n",
      "File \u001b[1;32m~\\AppData\\Local\\Packages\\PythonSoftwareFoundation.Python.3.11_qbz5n2kfra8p0\\LocalCache\\local-packages\\Python311\\site-packages\\pandas\\io\\formats\\printing.py:119\u001b[0m, in \u001b[0;36m_pprint_seq\u001b[1;34m(seq, _nest_lvl, max_seq_items, **kwds)\u001b[0m\n\u001b[0;32m    117\u001b[0m s \u001b[39m=\u001b[39m \u001b[39miter\u001b[39m(seq)\n\u001b[0;32m    118\u001b[0m \u001b[39m# handle sets, no slicing\u001b[39;00m\n\u001b[1;32m--> 119\u001b[0m r \u001b[39m=\u001b[39m [\n\u001b[0;32m    120\u001b[0m     pprint_thing(\u001b[39mnext\u001b[39;49m(s), _nest_lvl \u001b[39m+\u001b[39;49m \u001b[39m1\u001b[39;49m, max_seq_items\u001b[39m=\u001b[39;49mmax_seq_items, \u001b[39m*\u001b[39;49m\u001b[39m*\u001b[39;49mkwds)\n\u001b[0;32m    121\u001b[0m     \u001b[39mfor\u001b[39;49;00m i \u001b[39min\u001b[39;49;00m \u001b[39mrange\u001b[39;49m(\u001b[39mmin\u001b[39;49m(nitems, \u001b[39mlen\u001b[39;49m(seq)))\n\u001b[0;32m    122\u001b[0m ]\n\u001b[0;32m    123\u001b[0m body \u001b[39m=\u001b[39m \u001b[39m\"\u001b[39m\u001b[39m, \u001b[39m\u001b[39m\"\u001b[39m\u001b[39m.\u001b[39mjoin(r)\n\u001b[0;32m    125\u001b[0m \u001b[39mif\u001b[39;00m nitems \u001b[39m<\u001b[39m \u001b[39mlen\u001b[39m(seq):\n",
      "File \u001b[1;32m~\\AppData\\Local\\Packages\\PythonSoftwareFoundation.Python.3.11_qbz5n2kfra8p0\\LocalCache\\local-packages\\Python311\\site-packages\\pandas\\io\\formats\\printing.py:120\u001b[0m, in \u001b[0;36m<listcomp>\u001b[1;34m(.0)\u001b[0m\n\u001b[0;32m    117\u001b[0m s \u001b[39m=\u001b[39m \u001b[39miter\u001b[39m(seq)\n\u001b[0;32m    118\u001b[0m \u001b[39m# handle sets, no slicing\u001b[39;00m\n\u001b[0;32m    119\u001b[0m r \u001b[39m=\u001b[39m [\n\u001b[1;32m--> 120\u001b[0m     pprint_thing(\u001b[39mnext\u001b[39;49m(s), _nest_lvl \u001b[39m+\u001b[39m \u001b[39m1\u001b[39m, max_seq_items\u001b[39m=\u001b[39mmax_seq_items, \u001b[39m*\u001b[39m\u001b[39m*\u001b[39mkwds)\n\u001b[0;32m    121\u001b[0m     \u001b[39mfor\u001b[39;00m i \u001b[39min\u001b[39;00m \u001b[39mrange\u001b[39m(\u001b[39mmin\u001b[39m(nitems, \u001b[39mlen\u001b[39m(seq)))\n\u001b[0;32m    122\u001b[0m ]\n\u001b[0;32m    123\u001b[0m body \u001b[39m=\u001b[39m \u001b[39m\"\u001b[39m\u001b[39m, \u001b[39m\u001b[39m\"\u001b[39m\u001b[39m.\u001b[39mjoin(r)\n\u001b[0;32m    125\u001b[0m \u001b[39mif\u001b[39;00m nitems \u001b[39m<\u001b[39m \u001b[39mlen\u001b[39m(seq):\n",
      "\u001b[1;31mStopIteration\u001b[0m: "
     ]
    },
    {
     "ename": "StopIteration",
     "evalue": "",
     "output_type": "error",
     "traceback": [
      "\u001b[1;31m---------------------------------------------------------------------------\u001b[0m",
      "\u001b[1;31mStopIteration\u001b[0m                             Traceback (most recent call last)",
      "File \u001b[1;32m~\\AppData\\Local\\Packages\\PythonSoftwareFoundation.Python.3.11_qbz5n2kfra8p0\\LocalCache\\local-packages\\Python311\\site-packages\\IPython\\core\\formatters.py:344\u001b[0m, in \u001b[0;36mBaseFormatter.__call__\u001b[1;34m(self, obj)\u001b[0m\n\u001b[0;32m    342\u001b[0m     method \u001b[39m=\u001b[39m get_real_method(obj, \u001b[39mself\u001b[39m\u001b[39m.\u001b[39mprint_method)\n\u001b[0;32m    343\u001b[0m     \u001b[39mif\u001b[39;00m method \u001b[39mis\u001b[39;00m \u001b[39mnot\u001b[39;00m \u001b[39mNone\u001b[39;00m:\n\u001b[1;32m--> 344\u001b[0m         \u001b[39mreturn\u001b[39;00m method()\n\u001b[0;32m    345\u001b[0m     \u001b[39mreturn\u001b[39;00m \u001b[39mNone\u001b[39;00m\n\u001b[0;32m    346\u001b[0m \u001b[39melse\u001b[39;00m:\n",
      "File \u001b[1;32m~\\AppData\\Local\\Packages\\PythonSoftwareFoundation.Python.3.11_qbz5n2kfra8p0\\LocalCache\\local-packages\\Python311\\site-packages\\pandas\\core\\frame.py:1136\u001b[0m, in \u001b[0;36mDataFrame._repr_html_\u001b[1;34m(self)\u001b[0m\n\u001b[0;32m   1114\u001b[0m     show_dimensions \u001b[39m=\u001b[39m get_option(\u001b[39m\"\u001b[39m\u001b[39mdisplay.show_dimensions\u001b[39m\u001b[39m\"\u001b[39m)\n\u001b[0;32m   1116\u001b[0m     formatter \u001b[39m=\u001b[39m fmt\u001b[39m.\u001b[39mDataFrameFormatter(\n\u001b[0;32m   1117\u001b[0m         \u001b[39mself\u001b[39m,\n\u001b[0;32m   1118\u001b[0m         columns\u001b[39m=\u001b[39m\u001b[39mNone\u001b[39;00m,\n\u001b[1;32m   (...)\u001b[0m\n\u001b[0;32m   1134\u001b[0m         decimal\u001b[39m=\u001b[39m\u001b[39m\"\u001b[39m\u001b[39m.\u001b[39m\u001b[39m\"\u001b[39m,\n\u001b[0;32m   1135\u001b[0m     )\n\u001b[1;32m-> 1136\u001b[0m     \u001b[39mreturn\u001b[39;00m fmt\u001b[39m.\u001b[39;49mDataFrameRenderer(formatter)\u001b[39m.\u001b[39;49mto_html(notebook\u001b[39m=\u001b[39;49m\u001b[39mTrue\u001b[39;49;00m)\n\u001b[0;32m   1137\u001b[0m \u001b[39melse\u001b[39;00m:\n\u001b[0;32m   1138\u001b[0m     \u001b[39mreturn\u001b[39;00m \u001b[39mNone\u001b[39;00m\n",
      "File \u001b[1;32m~\\AppData\\Local\\Packages\\PythonSoftwareFoundation.Python.3.11_qbz5n2kfra8p0\\LocalCache\\local-packages\\Python311\\site-packages\\pandas\\io\\formats\\format.py:1108\u001b[0m, in \u001b[0;36mDataFrameRenderer.to_html\u001b[1;34m(self, buf, encoding, classes, notebook, border, table_id, render_links)\u001b[0m\n\u001b[0;32m   1099\u001b[0m Klass \u001b[39m=\u001b[39m NotebookFormatter \u001b[39mif\u001b[39;00m notebook \u001b[39melse\u001b[39;00m HTMLFormatter\n\u001b[0;32m   1101\u001b[0m html_formatter \u001b[39m=\u001b[39m Klass(\n\u001b[0;32m   1102\u001b[0m     \u001b[39mself\u001b[39m\u001b[39m.\u001b[39mfmt,\n\u001b[0;32m   1103\u001b[0m     classes\u001b[39m=\u001b[39mclasses,\n\u001b[1;32m   (...)\u001b[0m\n\u001b[0;32m   1106\u001b[0m     render_links\u001b[39m=\u001b[39mrender_links,\n\u001b[0;32m   1107\u001b[0m )\n\u001b[1;32m-> 1108\u001b[0m string \u001b[39m=\u001b[39m html_formatter\u001b[39m.\u001b[39;49mto_string()\n\u001b[0;32m   1109\u001b[0m \u001b[39mreturn\u001b[39;00m save_to_buffer(string, buf\u001b[39m=\u001b[39mbuf, encoding\u001b[39m=\u001b[39mencoding)\n",
      "File \u001b[1;32m~\\AppData\\Local\\Packages\\PythonSoftwareFoundation.Python.3.11_qbz5n2kfra8p0\\LocalCache\\local-packages\\Python311\\site-packages\\pandas\\io\\formats\\html.py:77\u001b[0m, in \u001b[0;36mHTMLFormatter.to_string\u001b[1;34m(self)\u001b[0m\n\u001b[0;32m     76\u001b[0m \u001b[39mdef\u001b[39;00m \u001b[39mto_string\u001b[39m(\u001b[39mself\u001b[39m) \u001b[39m-\u001b[39m\u001b[39m>\u001b[39m \u001b[39mstr\u001b[39m:\n\u001b[1;32m---> 77\u001b[0m     lines \u001b[39m=\u001b[39m \u001b[39mself\u001b[39;49m\u001b[39m.\u001b[39;49mrender()\n\u001b[0;32m     78\u001b[0m     \u001b[39mif\u001b[39;00m \u001b[39many\u001b[39m(\u001b[39misinstance\u001b[39m(x, \u001b[39mstr\u001b[39m) \u001b[39mfor\u001b[39;00m x \u001b[39min\u001b[39;00m lines):\n\u001b[0;32m     79\u001b[0m         lines \u001b[39m=\u001b[39m [\u001b[39mstr\u001b[39m(x) \u001b[39mfor\u001b[39;00m x \u001b[39min\u001b[39;00m lines]\n",
      "File \u001b[1;32m~\\AppData\\Local\\Packages\\PythonSoftwareFoundation.Python.3.11_qbz5n2kfra8p0\\LocalCache\\local-packages\\Python311\\site-packages\\pandas\\io\\formats\\html.py:631\u001b[0m, in \u001b[0;36mNotebookFormatter.render\u001b[1;34m(self)\u001b[0m\n\u001b[0;32m    629\u001b[0m \u001b[39mself\u001b[39m\u001b[39m.\u001b[39mwrite(\u001b[39m\"\u001b[39m\u001b[39m<div>\u001b[39m\u001b[39m\"\u001b[39m)\n\u001b[0;32m    630\u001b[0m \u001b[39mself\u001b[39m\u001b[39m.\u001b[39mwrite_style()\n\u001b[1;32m--> 631\u001b[0m \u001b[39msuper\u001b[39;49m()\u001b[39m.\u001b[39;49mrender()\n\u001b[0;32m    632\u001b[0m \u001b[39mself\u001b[39m\u001b[39m.\u001b[39mwrite(\u001b[39m\"\u001b[39m\u001b[39m</div>\u001b[39m\u001b[39m\"\u001b[39m)\n\u001b[0;32m    633\u001b[0m \u001b[39mreturn\u001b[39;00m \u001b[39mself\u001b[39m\u001b[39m.\u001b[39melements\n",
      "File \u001b[1;32m~\\AppData\\Local\\Packages\\PythonSoftwareFoundation.Python.3.11_qbz5n2kfra8p0\\LocalCache\\local-packages\\Python311\\site-packages\\pandas\\io\\formats\\html.py:83\u001b[0m, in \u001b[0;36mHTMLFormatter.render\u001b[1;34m(self)\u001b[0m\n\u001b[0;32m     82\u001b[0m \u001b[39mdef\u001b[39;00m \u001b[39mrender\u001b[39m(\u001b[39mself\u001b[39m) \u001b[39m-\u001b[39m\u001b[39m>\u001b[39m \u001b[39mlist\u001b[39m[\u001b[39mstr\u001b[39m]:\n\u001b[1;32m---> 83\u001b[0m     \u001b[39mself\u001b[39;49m\u001b[39m.\u001b[39;49m_write_table()\n\u001b[0;32m     85\u001b[0m     \u001b[39mif\u001b[39;00m \u001b[39mself\u001b[39m\u001b[39m.\u001b[39mshould_show_dimensions:\n\u001b[0;32m     86\u001b[0m         by \u001b[39m=\u001b[39m \u001b[39mchr\u001b[39m(\u001b[39m215\u001b[39m)  \u001b[39m# ×\u001b[39;00m\n",
      "File \u001b[1;32m~\\AppData\\Local\\Packages\\PythonSoftwareFoundation.Python.3.11_qbz5n2kfra8p0\\LocalCache\\local-packages\\Python311\\site-packages\\pandas\\io\\formats\\html.py:258\u001b[0m, in \u001b[0;36mHTMLFormatter._write_table\u001b[1;34m(self, indent)\u001b[0m\n\u001b[0;32m    255\u001b[0m \u001b[39mif\u001b[39;00m \u001b[39mself\u001b[39m\u001b[39m.\u001b[39mfmt\u001b[39m.\u001b[39mheader \u001b[39mor\u001b[39;00m \u001b[39mself\u001b[39m\u001b[39m.\u001b[39mshow_row_idx_names:\n\u001b[0;32m    256\u001b[0m     \u001b[39mself\u001b[39m\u001b[39m.\u001b[39m_write_header(indent \u001b[39m+\u001b[39m \u001b[39mself\u001b[39m\u001b[39m.\u001b[39mindent_delta)\n\u001b[1;32m--> 258\u001b[0m \u001b[39mself\u001b[39;49m\u001b[39m.\u001b[39;49m_write_body(indent \u001b[39m+\u001b[39;49m \u001b[39mself\u001b[39;49m\u001b[39m.\u001b[39;49mindent_delta)\n\u001b[0;32m    260\u001b[0m \u001b[39mself\u001b[39m\u001b[39m.\u001b[39mwrite(\u001b[39m\"\u001b[39m\u001b[39m</table>\u001b[39m\u001b[39m\"\u001b[39m, indent)\n",
      "File \u001b[1;32m~\\AppData\\Local\\Packages\\PythonSoftwareFoundation.Python.3.11_qbz5n2kfra8p0\\LocalCache\\local-packages\\Python311\\site-packages\\pandas\\io\\formats\\html.py:412\u001b[0m, in \u001b[0;36mHTMLFormatter._write_body\u001b[1;34m(self, indent)\u001b[0m\n\u001b[0;32m    410\u001b[0m     \u001b[39mself\u001b[39m\u001b[39m.\u001b[39m_write_hierarchical_rows(fmt_values, indent \u001b[39m+\u001b[39m \u001b[39mself\u001b[39m\u001b[39m.\u001b[39mindent_delta)\n\u001b[0;32m    411\u001b[0m \u001b[39melse\u001b[39;00m:\n\u001b[1;32m--> 412\u001b[0m     \u001b[39mself\u001b[39;49m\u001b[39m.\u001b[39;49m_write_regular_rows(fmt_values, indent \u001b[39m+\u001b[39;49m \u001b[39mself\u001b[39;49m\u001b[39m.\u001b[39;49mindent_delta)\n\u001b[0;32m    414\u001b[0m \u001b[39mself\u001b[39m\u001b[39m.\u001b[39mwrite(\u001b[39m\"\u001b[39m\u001b[39m</tbody>\u001b[39m\u001b[39m\"\u001b[39m, indent)\n",
      "File \u001b[1;32m~\\AppData\\Local\\Packages\\PythonSoftwareFoundation.Python.3.11_qbz5n2kfra8p0\\LocalCache\\local-packages\\Python311\\site-packages\\pandas\\io\\formats\\html.py:429\u001b[0m, in \u001b[0;36mHTMLFormatter._write_regular_rows\u001b[1;34m(self, fmt_values, indent)\u001b[0m\n\u001b[0;32m    427\u001b[0m         index_values \u001b[39m=\u001b[39m \u001b[39mself\u001b[39m\u001b[39m.\u001b[39mfmt\u001b[39m.\u001b[39mtr_frame\u001b[39m.\u001b[39mindex\u001b[39m.\u001b[39mmap(fmt)\n\u001b[0;32m    428\u001b[0m     \u001b[39melse\u001b[39;00m:\n\u001b[1;32m--> 429\u001b[0m         index_values \u001b[39m=\u001b[39m \u001b[39mself\u001b[39;49m\u001b[39m.\u001b[39;49mfmt\u001b[39m.\u001b[39;49mtr_frame\u001b[39m.\u001b[39;49mindex\u001b[39m.\u001b[39;49mformat()\n\u001b[0;32m    431\u001b[0m row: \u001b[39mlist\u001b[39m[\u001b[39mstr\u001b[39m] \u001b[39m=\u001b[39m []\n\u001b[0;32m    432\u001b[0m \u001b[39mfor\u001b[39;00m i \u001b[39min\u001b[39;00m \u001b[39mrange\u001b[39m(nrows):\n",
      "File \u001b[1;32m~\\AppData\\Local\\Packages\\PythonSoftwareFoundation.Python.3.11_qbz5n2kfra8p0\\LocalCache\\local-packages\\Python311\\site-packages\\pandas\\core\\indexes\\base.py:1341\u001b[0m, in \u001b[0;36mIndex.format\u001b[1;34m(self, name, formatter, na_rep)\u001b[0m\n\u001b[0;32m   1338\u001b[0m \u001b[39mif\u001b[39;00m formatter \u001b[39mis\u001b[39;00m \u001b[39mnot\u001b[39;00m \u001b[39mNone\u001b[39;00m:\n\u001b[0;32m   1339\u001b[0m     \u001b[39mreturn\u001b[39;00m header \u001b[39m+\u001b[39m \u001b[39mlist\u001b[39m(\u001b[39mself\u001b[39m\u001b[39m.\u001b[39mmap(formatter))\n\u001b[1;32m-> 1341\u001b[0m \u001b[39mreturn\u001b[39;00m \u001b[39mself\u001b[39;49m\u001b[39m.\u001b[39;49m_format_with_header(header, na_rep\u001b[39m=\u001b[39;49mna_rep)\n",
      "File \u001b[1;32m~\\AppData\\Local\\Packages\\PythonSoftwareFoundation.Python.3.11_qbz5n2kfra8p0\\LocalCache\\local-packages\\Python311\\site-packages\\pandas\\core\\indexes\\base.py:1352\u001b[0m, in \u001b[0;36mIndex._format_with_header\u001b[1;34m(self, header, na_rep)\u001b[0m\n\u001b[0;32m   1349\u001b[0m values \u001b[39m=\u001b[39m cast(np\u001b[39m.\u001b[39mndarray, values)\n\u001b[0;32m   1350\u001b[0m values \u001b[39m=\u001b[39m lib\u001b[39m.\u001b[39mmaybe_convert_objects(values, safe\u001b[39m=\u001b[39m\u001b[39mTrue\u001b[39;00m)\n\u001b[1;32m-> 1352\u001b[0m result \u001b[39m=\u001b[39m [pprint_thing(x, escape_chars\u001b[39m=\u001b[39;49m(\u001b[39m\"\u001b[39;49m\u001b[39m\\t\u001b[39;49;00m\u001b[39m\"\u001b[39;49m, \u001b[39m\"\u001b[39;49m\u001b[39m\\r\u001b[39;49;00m\u001b[39m\"\u001b[39;49m, \u001b[39m\"\u001b[39;49m\u001b[39m\\n\u001b[39;49;00m\u001b[39m\"\u001b[39;49m)) \u001b[39mfor\u001b[39;49;00m x \u001b[39min\u001b[39;49;00m values]\n\u001b[0;32m   1354\u001b[0m \u001b[39m# could have nans\u001b[39;00m\n\u001b[0;32m   1355\u001b[0m mask \u001b[39m=\u001b[39m is_float_nan(values)\n",
      "File \u001b[1;32m~\\AppData\\Local\\Packages\\PythonSoftwareFoundation.Python.3.11_qbz5n2kfra8p0\\LocalCache\\local-packages\\Python311\\site-packages\\pandas\\core\\indexes\\base.py:1352\u001b[0m, in \u001b[0;36m<listcomp>\u001b[1;34m(.0)\u001b[0m\n\u001b[0;32m   1349\u001b[0m values \u001b[39m=\u001b[39m cast(np\u001b[39m.\u001b[39mndarray, values)\n\u001b[0;32m   1350\u001b[0m values \u001b[39m=\u001b[39m lib\u001b[39m.\u001b[39mmaybe_convert_objects(values, safe\u001b[39m=\u001b[39m\u001b[39mTrue\u001b[39;00m)\n\u001b[1;32m-> 1352\u001b[0m result \u001b[39m=\u001b[39m [pprint_thing(x, escape_chars\u001b[39m=\u001b[39;49m(\u001b[39m\"\u001b[39;49m\u001b[39m\\t\u001b[39;49;00m\u001b[39m\"\u001b[39;49m, \u001b[39m\"\u001b[39;49m\u001b[39m\\r\u001b[39;49;00m\u001b[39m\"\u001b[39;49m, \u001b[39m\"\u001b[39;49m\u001b[39m\\n\u001b[39;49;00m\u001b[39m\"\u001b[39;49m)) \u001b[39mfor\u001b[39;00m x \u001b[39min\u001b[39;00m values]\n\u001b[0;32m   1354\u001b[0m \u001b[39m# could have nans\u001b[39;00m\n\u001b[0;32m   1355\u001b[0m mask \u001b[39m=\u001b[39m is_float_nan(values)\n",
      "File \u001b[1;32m~\\AppData\\Local\\Packages\\PythonSoftwareFoundation.Python.3.11_qbz5n2kfra8p0\\LocalCache\\local-packages\\Python311\\site-packages\\pandas\\io\\formats\\printing.py:222\u001b[0m, in \u001b[0;36mpprint_thing\u001b[1;34m(thing, _nest_lvl, escape_chars, default_escapes, quote_strings, max_seq_items)\u001b[0m\n\u001b[0;32m    218\u001b[0m     result \u001b[39m=\u001b[39m _pprint_dict(\n\u001b[0;32m    219\u001b[0m         thing, _nest_lvl, quote_strings\u001b[39m=\u001b[39m\u001b[39mTrue\u001b[39;00m, max_seq_items\u001b[39m=\u001b[39mmax_seq_items\n\u001b[0;32m    220\u001b[0m     )\n\u001b[0;32m    221\u001b[0m \u001b[39melif\u001b[39;00m is_sequence(thing) \u001b[39mand\u001b[39;00m _nest_lvl \u001b[39m<\u001b[39m get_option(\u001b[39m\"\u001b[39m\u001b[39mdisplay.pprint_nest_depth\u001b[39m\u001b[39m\"\u001b[39m):\n\u001b[1;32m--> 222\u001b[0m     result \u001b[39m=\u001b[39m _pprint_seq(\n\u001b[0;32m    223\u001b[0m         thing,\n\u001b[0;32m    224\u001b[0m         _nest_lvl,\n\u001b[0;32m    225\u001b[0m         escape_chars\u001b[39m=\u001b[39;49mescape_chars,\n\u001b[0;32m    226\u001b[0m         quote_strings\u001b[39m=\u001b[39;49mquote_strings,\n\u001b[0;32m    227\u001b[0m         max_seq_items\u001b[39m=\u001b[39;49mmax_seq_items,\n\u001b[0;32m    228\u001b[0m     )\n\u001b[0;32m    229\u001b[0m \u001b[39melif\u001b[39;00m \u001b[39misinstance\u001b[39m(thing, \u001b[39mstr\u001b[39m) \u001b[39mand\u001b[39;00m quote_strings:\n\u001b[0;32m    230\u001b[0m     result \u001b[39m=\u001b[39m \u001b[39mf\u001b[39m\u001b[39m\"\u001b[39m\u001b[39m'\u001b[39m\u001b[39m{\u001b[39;00mas_escaped_string(thing)\u001b[39m}\u001b[39;00m\u001b[39m'\u001b[39m\u001b[39m\"\u001b[39m\n",
      "File \u001b[1;32m~\\AppData\\Local\\Packages\\PythonSoftwareFoundation.Python.3.11_qbz5n2kfra8p0\\LocalCache\\local-packages\\Python311\\site-packages\\pandas\\io\\formats\\printing.py:119\u001b[0m, in \u001b[0;36m_pprint_seq\u001b[1;34m(seq, _nest_lvl, max_seq_items, **kwds)\u001b[0m\n\u001b[0;32m    117\u001b[0m s \u001b[39m=\u001b[39m \u001b[39miter\u001b[39m(seq)\n\u001b[0;32m    118\u001b[0m \u001b[39m# handle sets, no slicing\u001b[39;00m\n\u001b[1;32m--> 119\u001b[0m r \u001b[39m=\u001b[39m [\n\u001b[0;32m    120\u001b[0m     pprint_thing(\u001b[39mnext\u001b[39;49m(s), _nest_lvl \u001b[39m+\u001b[39;49m \u001b[39m1\u001b[39;49m, max_seq_items\u001b[39m=\u001b[39;49mmax_seq_items, \u001b[39m*\u001b[39;49m\u001b[39m*\u001b[39;49mkwds)\n\u001b[0;32m    121\u001b[0m     \u001b[39mfor\u001b[39;49;00m i \u001b[39min\u001b[39;49;00m \u001b[39mrange\u001b[39;49m(\u001b[39mmin\u001b[39;49m(nitems, \u001b[39mlen\u001b[39;49m(seq)))\n\u001b[0;32m    122\u001b[0m ]\n\u001b[0;32m    123\u001b[0m body \u001b[39m=\u001b[39m \u001b[39m\"\u001b[39m\u001b[39m, \u001b[39m\u001b[39m\"\u001b[39m\u001b[39m.\u001b[39mjoin(r)\n\u001b[0;32m    125\u001b[0m \u001b[39mif\u001b[39;00m nitems \u001b[39m<\u001b[39m \u001b[39mlen\u001b[39m(seq):\n",
      "File \u001b[1;32m~\\AppData\\Local\\Packages\\PythonSoftwareFoundation.Python.3.11_qbz5n2kfra8p0\\LocalCache\\local-packages\\Python311\\site-packages\\pandas\\io\\formats\\printing.py:120\u001b[0m, in \u001b[0;36m<listcomp>\u001b[1;34m(.0)\u001b[0m\n\u001b[0;32m    117\u001b[0m s \u001b[39m=\u001b[39m \u001b[39miter\u001b[39m(seq)\n\u001b[0;32m    118\u001b[0m \u001b[39m# handle sets, no slicing\u001b[39;00m\n\u001b[0;32m    119\u001b[0m r \u001b[39m=\u001b[39m [\n\u001b[1;32m--> 120\u001b[0m     pprint_thing(\u001b[39mnext\u001b[39;49m(s), _nest_lvl \u001b[39m+\u001b[39;49m \u001b[39m1\u001b[39;49m, max_seq_items\u001b[39m=\u001b[39;49mmax_seq_items, \u001b[39m*\u001b[39;49m\u001b[39m*\u001b[39;49mkwds)\n\u001b[0;32m    121\u001b[0m     \u001b[39mfor\u001b[39;00m i \u001b[39min\u001b[39;00m \u001b[39mrange\u001b[39m(\u001b[39mmin\u001b[39m(nitems, \u001b[39mlen\u001b[39m(seq)))\n\u001b[0;32m    122\u001b[0m ]\n\u001b[0;32m    123\u001b[0m body \u001b[39m=\u001b[39m \u001b[39m\"\u001b[39m\u001b[39m, \u001b[39m\u001b[39m\"\u001b[39m\u001b[39m.\u001b[39mjoin(r)\n\u001b[0;32m    125\u001b[0m \u001b[39mif\u001b[39;00m nitems \u001b[39m<\u001b[39m \u001b[39mlen\u001b[39m(seq):\n",
      "File \u001b[1;32m~\\AppData\\Local\\Packages\\PythonSoftwareFoundation.Python.3.11_qbz5n2kfra8p0\\LocalCache\\local-packages\\Python311\\site-packages\\pandas\\io\\formats\\printing.py:222\u001b[0m, in \u001b[0;36mpprint_thing\u001b[1;34m(thing, _nest_lvl, escape_chars, default_escapes, quote_strings, max_seq_items)\u001b[0m\n\u001b[0;32m    218\u001b[0m     result \u001b[39m=\u001b[39m _pprint_dict(\n\u001b[0;32m    219\u001b[0m         thing, _nest_lvl, quote_strings\u001b[39m=\u001b[39m\u001b[39mTrue\u001b[39;00m, max_seq_items\u001b[39m=\u001b[39mmax_seq_items\n\u001b[0;32m    220\u001b[0m     )\n\u001b[0;32m    221\u001b[0m \u001b[39melif\u001b[39;00m is_sequence(thing) \u001b[39mand\u001b[39;00m _nest_lvl \u001b[39m<\u001b[39m get_option(\u001b[39m\"\u001b[39m\u001b[39mdisplay.pprint_nest_depth\u001b[39m\u001b[39m\"\u001b[39m):\n\u001b[1;32m--> 222\u001b[0m     result \u001b[39m=\u001b[39m _pprint_seq(\n\u001b[0;32m    223\u001b[0m         thing,\n\u001b[0;32m    224\u001b[0m         _nest_lvl,\n\u001b[0;32m    225\u001b[0m         escape_chars\u001b[39m=\u001b[39;49mescape_chars,\n\u001b[0;32m    226\u001b[0m         quote_strings\u001b[39m=\u001b[39;49mquote_strings,\n\u001b[0;32m    227\u001b[0m         max_seq_items\u001b[39m=\u001b[39;49mmax_seq_items,\n\u001b[0;32m    228\u001b[0m     )\n\u001b[0;32m    229\u001b[0m \u001b[39melif\u001b[39;00m \u001b[39misinstance\u001b[39m(thing, \u001b[39mstr\u001b[39m) \u001b[39mand\u001b[39;00m quote_strings:\n\u001b[0;32m    230\u001b[0m     result \u001b[39m=\u001b[39m \u001b[39mf\u001b[39m\u001b[39m\"\u001b[39m\u001b[39m'\u001b[39m\u001b[39m{\u001b[39;00mas_escaped_string(thing)\u001b[39m}\u001b[39;00m\u001b[39m'\u001b[39m\u001b[39m\"\u001b[39m\n",
      "File \u001b[1;32m~\\AppData\\Local\\Packages\\PythonSoftwareFoundation.Python.3.11_qbz5n2kfra8p0\\LocalCache\\local-packages\\Python311\\site-packages\\pandas\\io\\formats\\printing.py:119\u001b[0m, in \u001b[0;36m_pprint_seq\u001b[1;34m(seq, _nest_lvl, max_seq_items, **kwds)\u001b[0m\n\u001b[0;32m    117\u001b[0m s \u001b[39m=\u001b[39m \u001b[39miter\u001b[39m(seq)\n\u001b[0;32m    118\u001b[0m \u001b[39m# handle sets, no slicing\u001b[39;00m\n\u001b[1;32m--> 119\u001b[0m r \u001b[39m=\u001b[39m [\n\u001b[0;32m    120\u001b[0m     pprint_thing(\u001b[39mnext\u001b[39;49m(s), _nest_lvl \u001b[39m+\u001b[39;49m \u001b[39m1\u001b[39;49m, max_seq_items\u001b[39m=\u001b[39;49mmax_seq_items, \u001b[39m*\u001b[39;49m\u001b[39m*\u001b[39;49mkwds)\n\u001b[0;32m    121\u001b[0m     \u001b[39mfor\u001b[39;49;00m i \u001b[39min\u001b[39;49;00m \u001b[39mrange\u001b[39;49m(\u001b[39mmin\u001b[39;49m(nitems, \u001b[39mlen\u001b[39;49m(seq)))\n\u001b[0;32m    122\u001b[0m ]\n\u001b[0;32m    123\u001b[0m body \u001b[39m=\u001b[39m \u001b[39m\"\u001b[39m\u001b[39m, \u001b[39m\u001b[39m\"\u001b[39m\u001b[39m.\u001b[39mjoin(r)\n\u001b[0;32m    125\u001b[0m \u001b[39mif\u001b[39;00m nitems \u001b[39m<\u001b[39m \u001b[39mlen\u001b[39m(seq):\n",
      "File \u001b[1;32m~\\AppData\\Local\\Packages\\PythonSoftwareFoundation.Python.3.11_qbz5n2kfra8p0\\LocalCache\\local-packages\\Python311\\site-packages\\pandas\\io\\formats\\printing.py:120\u001b[0m, in \u001b[0;36m<listcomp>\u001b[1;34m(.0)\u001b[0m\n\u001b[0;32m    117\u001b[0m s \u001b[39m=\u001b[39m \u001b[39miter\u001b[39m(seq)\n\u001b[0;32m    118\u001b[0m \u001b[39m# handle sets, no slicing\u001b[39;00m\n\u001b[0;32m    119\u001b[0m r \u001b[39m=\u001b[39m [\n\u001b[1;32m--> 120\u001b[0m     pprint_thing(\u001b[39mnext\u001b[39;49m(s), _nest_lvl \u001b[39m+\u001b[39;49m \u001b[39m1\u001b[39;49m, max_seq_items\u001b[39m=\u001b[39;49mmax_seq_items, \u001b[39m*\u001b[39;49m\u001b[39m*\u001b[39;49mkwds)\n\u001b[0;32m    121\u001b[0m     \u001b[39mfor\u001b[39;00m i \u001b[39min\u001b[39;00m \u001b[39mrange\u001b[39m(\u001b[39mmin\u001b[39m(nitems, \u001b[39mlen\u001b[39m(seq)))\n\u001b[0;32m    122\u001b[0m ]\n\u001b[0;32m    123\u001b[0m body \u001b[39m=\u001b[39m \u001b[39m\"\u001b[39m\u001b[39m, \u001b[39m\u001b[39m\"\u001b[39m\u001b[39m.\u001b[39mjoin(r)\n\u001b[0;32m    125\u001b[0m \u001b[39mif\u001b[39;00m nitems \u001b[39m<\u001b[39m \u001b[39mlen\u001b[39m(seq):\n",
      "File \u001b[1;32m~\\AppData\\Local\\Packages\\PythonSoftwareFoundation.Python.3.11_qbz5n2kfra8p0\\LocalCache\\local-packages\\Python311\\site-packages\\pandas\\io\\formats\\printing.py:222\u001b[0m, in \u001b[0;36mpprint_thing\u001b[1;34m(thing, _nest_lvl, escape_chars, default_escapes, quote_strings, max_seq_items)\u001b[0m\n\u001b[0;32m    218\u001b[0m     result \u001b[39m=\u001b[39m _pprint_dict(\n\u001b[0;32m    219\u001b[0m         thing, _nest_lvl, quote_strings\u001b[39m=\u001b[39m\u001b[39mTrue\u001b[39;00m, max_seq_items\u001b[39m=\u001b[39mmax_seq_items\n\u001b[0;32m    220\u001b[0m     )\n\u001b[0;32m    221\u001b[0m \u001b[39melif\u001b[39;00m is_sequence(thing) \u001b[39mand\u001b[39;00m _nest_lvl \u001b[39m<\u001b[39m get_option(\u001b[39m\"\u001b[39m\u001b[39mdisplay.pprint_nest_depth\u001b[39m\u001b[39m\"\u001b[39m):\n\u001b[1;32m--> 222\u001b[0m     result \u001b[39m=\u001b[39m _pprint_seq(\n\u001b[0;32m    223\u001b[0m         thing,\n\u001b[0;32m    224\u001b[0m         _nest_lvl,\n\u001b[0;32m    225\u001b[0m         escape_chars\u001b[39m=\u001b[39;49mescape_chars,\n\u001b[0;32m    226\u001b[0m         quote_strings\u001b[39m=\u001b[39;49mquote_strings,\n\u001b[0;32m    227\u001b[0m         max_seq_items\u001b[39m=\u001b[39;49mmax_seq_items,\n\u001b[0;32m    228\u001b[0m     )\n\u001b[0;32m    229\u001b[0m \u001b[39melif\u001b[39;00m \u001b[39misinstance\u001b[39m(thing, \u001b[39mstr\u001b[39m) \u001b[39mand\u001b[39;00m quote_strings:\n\u001b[0;32m    230\u001b[0m     result \u001b[39m=\u001b[39m \u001b[39mf\u001b[39m\u001b[39m\"\u001b[39m\u001b[39m'\u001b[39m\u001b[39m{\u001b[39;00mas_escaped_string(thing)\u001b[39m}\u001b[39;00m\u001b[39m'\u001b[39m\u001b[39m\"\u001b[39m\n",
      "File \u001b[1;32m~\\AppData\\Local\\Packages\\PythonSoftwareFoundation.Python.3.11_qbz5n2kfra8p0\\LocalCache\\local-packages\\Python311\\site-packages\\pandas\\io\\formats\\printing.py:119\u001b[0m, in \u001b[0;36m_pprint_seq\u001b[1;34m(seq, _nest_lvl, max_seq_items, **kwds)\u001b[0m\n\u001b[0;32m    117\u001b[0m s \u001b[39m=\u001b[39m \u001b[39miter\u001b[39m(seq)\n\u001b[0;32m    118\u001b[0m \u001b[39m# handle sets, no slicing\u001b[39;00m\n\u001b[1;32m--> 119\u001b[0m r \u001b[39m=\u001b[39m [\n\u001b[0;32m    120\u001b[0m     pprint_thing(\u001b[39mnext\u001b[39;49m(s), _nest_lvl \u001b[39m+\u001b[39;49m \u001b[39m1\u001b[39;49m, max_seq_items\u001b[39m=\u001b[39;49mmax_seq_items, \u001b[39m*\u001b[39;49m\u001b[39m*\u001b[39;49mkwds)\n\u001b[0;32m    121\u001b[0m     \u001b[39mfor\u001b[39;49;00m i \u001b[39min\u001b[39;49;00m \u001b[39mrange\u001b[39;49m(\u001b[39mmin\u001b[39;49m(nitems, \u001b[39mlen\u001b[39;49m(seq)))\n\u001b[0;32m    122\u001b[0m ]\n\u001b[0;32m    123\u001b[0m body \u001b[39m=\u001b[39m \u001b[39m\"\u001b[39m\u001b[39m, \u001b[39m\u001b[39m\"\u001b[39m\u001b[39m.\u001b[39mjoin(r)\n\u001b[0;32m    125\u001b[0m \u001b[39mif\u001b[39;00m nitems \u001b[39m<\u001b[39m \u001b[39mlen\u001b[39m(seq):\n",
      "File \u001b[1;32m~\\AppData\\Local\\Packages\\PythonSoftwareFoundation.Python.3.11_qbz5n2kfra8p0\\LocalCache\\local-packages\\Python311\\site-packages\\pandas\\io\\formats\\printing.py:120\u001b[0m, in \u001b[0;36m<listcomp>\u001b[1;34m(.0)\u001b[0m\n\u001b[0;32m    117\u001b[0m s \u001b[39m=\u001b[39m \u001b[39miter\u001b[39m(seq)\n\u001b[0;32m    118\u001b[0m \u001b[39m# handle sets, no slicing\u001b[39;00m\n\u001b[0;32m    119\u001b[0m r \u001b[39m=\u001b[39m [\n\u001b[1;32m--> 120\u001b[0m     pprint_thing(\u001b[39mnext\u001b[39;49m(s), _nest_lvl \u001b[39m+\u001b[39m \u001b[39m1\u001b[39m, max_seq_items\u001b[39m=\u001b[39mmax_seq_items, \u001b[39m*\u001b[39m\u001b[39m*\u001b[39mkwds)\n\u001b[0;32m    121\u001b[0m     \u001b[39mfor\u001b[39;00m i \u001b[39min\u001b[39;00m \u001b[39mrange\u001b[39m(\u001b[39mmin\u001b[39m(nitems, \u001b[39mlen\u001b[39m(seq)))\n\u001b[0;32m    122\u001b[0m ]\n\u001b[0;32m    123\u001b[0m body \u001b[39m=\u001b[39m \u001b[39m\"\u001b[39m\u001b[39m, \u001b[39m\u001b[39m\"\u001b[39m\u001b[39m.\u001b[39mjoin(r)\n\u001b[0;32m    125\u001b[0m \u001b[39mif\u001b[39;00m nitems \u001b[39m<\u001b[39m \u001b[39mlen\u001b[39m(seq):\n",
      "\u001b[1;31mStopIteration\u001b[0m: "
     ]
    }
   ],
   "source": [
    "school_summary = pd.DataFrame({\n",
    "    \"School Type\": f\"{school_type}\",\n",
    "    \"Total Students\": f\"{students_by_school}\",\n",
    "    \"Total School Budget\": f\"${School_Budget}\",\n",
    "    \"Average Math Score\": f\"{school_math_score}\",\n",
    "    \"Average Reading Score\": f\"{school_reading_score}\",\n",
    "    \"% Passing Math\": f\"{math_passing_school}\",\n",
    "    \"% Passing Reading\": f\"{reading_passing_school}\",\n",
    "    \"% Overall Passing\": f\"{School_Overall_passing_percentage}\"\n",
    "}, index=[0])\n",
    "\n",
    "school_summary\n"
   ]
  }
 ],
 "metadata": {
  "kernelspec": {
   "display_name": "Python 3",
   "language": "python",
   "name": "python3"
  },
  "language_info": {
   "codemirror_mode": {
    "name": "ipython",
    "version": 3
   },
   "file_extension": ".py",
   "mimetype": "text/x-python",
   "name": "python",
   "nbconvert_exporter": "python",
   "pygments_lexer": "ipython3",
   "version": "3.11.4"
  },
  "orig_nbformat": 4
 },
 "nbformat": 4,
 "nbformat_minor": 2
}
